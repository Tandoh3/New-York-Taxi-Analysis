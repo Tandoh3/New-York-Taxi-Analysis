{
 "cells": [
  {
   "cell_type": "markdown",
   "id": "e3b7da17",
   "metadata": {},
   "source": [
    "# Table of Contents\n",
    "<a id=\"table-of-contents\"></a>\n",
    "\n",
    "0. [Import Libraries](#imports)\n",
    "1. [Import Data](#import_data)\n",
    "2. [Data Exploration](#data_exploration) \n",
    "3. [Data Cleaning](#data_cleaning) \n",
    "4. [Data Preparation](#data_preparation)\n",
    "5. [Benchmark model](#benchmark_model)<br>\n",
    "    5.1. [Train-test split](#train_test_split)<br>\n",
    "    5.2. [Fit a model to the data](#fit_model)<br> \n",
    "    5.3. [Model evaluation](#model_evaluation)<br> \n",
    "    5.4. [Fix problems](#fix_problems) \n",
    "6. [Feature engineering](#feature_engineering) \n",
    "7. [Model training](#model_training)<br> \n",
    "    7.1. [Decision Tree](#decision_tree)<br> \n",
    "    7.2. [Random Forest](#random_forest) - \n",
    "      [Overfit](#overfit) - \n",
    "      [Underfit](#underfit)<br> \n",
    "    7.3. [Gradient boosting](#gradient_boosting)<br> \n",
    "    7.4. [Comparing algorithm performances](#comparing_algorithm_performances) \n",
    "8. [Tuning](#tuning)<br> \n",
    "    8.1 [Find best parameters](#find_best_parameters)<br> \n",
    "    Bonus: [Classification](#classification) "
   ]
  },
  {
   "cell_type": "markdown",
   "id": "7baf3bbb",
   "metadata": {},
   "source": [
    "# 0. Import Libraries\n",
    "<a id=\"imports\"></a>\n",
    "<br>\n",
    "[Back to the Top](#table-of-contents)"
   ]
  },
  {
   "cell_type": "code",
   "execution_count": 3,
   "id": "7994d9af",
   "metadata": {},
   "outputs": [],
   "source": [
    "import pandas as pd \n",
    "import numpy as np \n",
    "import matplotlib.pyplot as plt \n",
    "import seaborn as sns\n",
    "\n",
    "%matplotlib inline "
   ]
  },
  {
   "cell_type": "markdown",
   "id": "54a03b58",
   "metadata": {},
   "source": [
    "# 1. Import Data\n",
    "<a id=\"import_data\"></a>\n",
    "<br>\n",
    "[Back to the Top](#table-of-contents)"
   ]
  },
  {
   "cell_type": "code",
   "execution_count": 4,
   "id": "5da98ee2",
   "metadata": {},
   "outputs": [],
   "source": [
    "#import data into jupyter notebook \n",
    "taxi_jan_2024 = pd.read_parquet(\"data/yellow_tripdata_2024-01.parquet\") \n",
    "taxi_df = pd.concat([taxi_jan_2024])"
   ]
  },
  {
   "cell_type": "code",
   "execution_count": 5,
   "id": "a075a002",
   "metadata": {},
   "outputs": [
    {
     "name": "stdout",
     "output_type": "stream",
     "text": [
      "(2964624, 19)\n"
     ]
    },
    {
     "data": {
      "text/html": [
       "<div>\n",
       "<style scoped>\n",
       "    .dataframe tbody tr th:only-of-type {\n",
       "        vertical-align: middle;\n",
       "    }\n",
       "\n",
       "    .dataframe tbody tr th {\n",
       "        vertical-align: top;\n",
       "    }\n",
       "\n",
       "    .dataframe thead th {\n",
       "        text-align: right;\n",
       "    }\n",
       "</style>\n",
       "<table border=\"1\" class=\"dataframe\">\n",
       "  <thead>\n",
       "    <tr style=\"text-align: right;\">\n",
       "      <th></th>\n",
       "      <th>VendorID</th>\n",
       "      <th>tpep_pickup_datetime</th>\n",
       "      <th>tpep_dropoff_datetime</th>\n",
       "      <th>passenger_count</th>\n",
       "      <th>trip_distance</th>\n",
       "      <th>RatecodeID</th>\n",
       "      <th>store_and_fwd_flag</th>\n",
       "      <th>PULocationID</th>\n",
       "      <th>DOLocationID</th>\n",
       "      <th>payment_type</th>\n",
       "      <th>fare_amount</th>\n",
       "      <th>extra</th>\n",
       "      <th>mta_tax</th>\n",
       "      <th>tip_amount</th>\n",
       "      <th>tolls_amount</th>\n",
       "      <th>improvement_surcharge</th>\n",
       "      <th>total_amount</th>\n",
       "      <th>congestion_surcharge</th>\n",
       "      <th>Airport_fee</th>\n",
       "    </tr>\n",
       "  </thead>\n",
       "  <tbody>\n",
       "    <tr>\n",
       "      <th>0</th>\n",
       "      <td>2</td>\n",
       "      <td>2024-01-01 00:57:55</td>\n",
       "      <td>2024-01-01 01:17:43</td>\n",
       "      <td>1.0</td>\n",
       "      <td>1.72</td>\n",
       "      <td>1.0</td>\n",
       "      <td>N</td>\n",
       "      <td>186</td>\n",
       "      <td>79</td>\n",
       "      <td>2</td>\n",
       "      <td>17.7</td>\n",
       "      <td>1.0</td>\n",
       "      <td>0.5</td>\n",
       "      <td>0.00</td>\n",
       "      <td>0.0</td>\n",
       "      <td>1.0</td>\n",
       "      <td>22.70</td>\n",
       "      <td>2.5</td>\n",
       "      <td>0.0</td>\n",
       "    </tr>\n",
       "    <tr>\n",
       "      <th>1</th>\n",
       "      <td>1</td>\n",
       "      <td>2024-01-01 00:03:00</td>\n",
       "      <td>2024-01-01 00:09:36</td>\n",
       "      <td>1.0</td>\n",
       "      <td>1.80</td>\n",
       "      <td>1.0</td>\n",
       "      <td>N</td>\n",
       "      <td>140</td>\n",
       "      <td>236</td>\n",
       "      <td>1</td>\n",
       "      <td>10.0</td>\n",
       "      <td>3.5</td>\n",
       "      <td>0.5</td>\n",
       "      <td>3.75</td>\n",
       "      <td>0.0</td>\n",
       "      <td>1.0</td>\n",
       "      <td>18.75</td>\n",
       "      <td>2.5</td>\n",
       "      <td>0.0</td>\n",
       "    </tr>\n",
       "    <tr>\n",
       "      <th>2</th>\n",
       "      <td>1</td>\n",
       "      <td>2024-01-01 00:17:06</td>\n",
       "      <td>2024-01-01 00:35:01</td>\n",
       "      <td>1.0</td>\n",
       "      <td>4.70</td>\n",
       "      <td>1.0</td>\n",
       "      <td>N</td>\n",
       "      <td>236</td>\n",
       "      <td>79</td>\n",
       "      <td>1</td>\n",
       "      <td>23.3</td>\n",
       "      <td>3.5</td>\n",
       "      <td>0.5</td>\n",
       "      <td>3.00</td>\n",
       "      <td>0.0</td>\n",
       "      <td>1.0</td>\n",
       "      <td>31.30</td>\n",
       "      <td>2.5</td>\n",
       "      <td>0.0</td>\n",
       "    </tr>\n",
       "    <tr>\n",
       "      <th>3</th>\n",
       "      <td>1</td>\n",
       "      <td>2024-01-01 00:36:38</td>\n",
       "      <td>2024-01-01 00:44:56</td>\n",
       "      <td>1.0</td>\n",
       "      <td>1.40</td>\n",
       "      <td>1.0</td>\n",
       "      <td>N</td>\n",
       "      <td>79</td>\n",
       "      <td>211</td>\n",
       "      <td>1</td>\n",
       "      <td>10.0</td>\n",
       "      <td>3.5</td>\n",
       "      <td>0.5</td>\n",
       "      <td>2.00</td>\n",
       "      <td>0.0</td>\n",
       "      <td>1.0</td>\n",
       "      <td>17.00</td>\n",
       "      <td>2.5</td>\n",
       "      <td>0.0</td>\n",
       "    </tr>\n",
       "    <tr>\n",
       "      <th>4</th>\n",
       "      <td>1</td>\n",
       "      <td>2024-01-01 00:46:51</td>\n",
       "      <td>2024-01-01 00:52:57</td>\n",
       "      <td>1.0</td>\n",
       "      <td>0.80</td>\n",
       "      <td>1.0</td>\n",
       "      <td>N</td>\n",
       "      <td>211</td>\n",
       "      <td>148</td>\n",
       "      <td>1</td>\n",
       "      <td>7.9</td>\n",
       "      <td>3.5</td>\n",
       "      <td>0.5</td>\n",
       "      <td>3.20</td>\n",
       "      <td>0.0</td>\n",
       "      <td>1.0</td>\n",
       "      <td>16.10</td>\n",
       "      <td>2.5</td>\n",
       "      <td>0.0</td>\n",
       "    </tr>\n",
       "  </tbody>\n",
       "</table>\n",
       "</div>"
      ],
      "text/plain": [
       "   VendorID tpep_pickup_datetime tpep_dropoff_datetime  passenger_count  \\\n",
       "0         2  2024-01-01 00:57:55   2024-01-01 01:17:43              1.0   \n",
       "1         1  2024-01-01 00:03:00   2024-01-01 00:09:36              1.0   \n",
       "2         1  2024-01-01 00:17:06   2024-01-01 00:35:01              1.0   \n",
       "3         1  2024-01-01 00:36:38   2024-01-01 00:44:56              1.0   \n",
       "4         1  2024-01-01 00:46:51   2024-01-01 00:52:57              1.0   \n",
       "\n",
       "   trip_distance  RatecodeID store_and_fwd_flag  PULocationID  DOLocationID  \\\n",
       "0           1.72         1.0                  N           186            79   \n",
       "1           1.80         1.0                  N           140           236   \n",
       "2           4.70         1.0                  N           236            79   \n",
       "3           1.40         1.0                  N            79           211   \n",
       "4           0.80         1.0                  N           211           148   \n",
       "\n",
       "   payment_type  fare_amount  extra  mta_tax  tip_amount  tolls_amount  \\\n",
       "0             2         17.7    1.0      0.5        0.00           0.0   \n",
       "1             1         10.0    3.5      0.5        3.75           0.0   \n",
       "2             1         23.3    3.5      0.5        3.00           0.0   \n",
       "3             1         10.0    3.5      0.5        2.00           0.0   \n",
       "4             1          7.9    3.5      0.5        3.20           0.0   \n",
       "\n",
       "   improvement_surcharge  total_amount  congestion_surcharge  Airport_fee  \n",
       "0                    1.0         22.70                   2.5          0.0  \n",
       "1                    1.0         18.75                   2.5          0.0  \n",
       "2                    1.0         31.30                   2.5          0.0  \n",
       "3                    1.0         17.00                   2.5          0.0  \n",
       "4                    1.0         16.10                   2.5          0.0  "
      ]
     },
     "execution_count": 5,
     "metadata": {},
     "output_type": "execute_result"
    }
   ],
   "source": [
    "#print the shape to know the number of rows and columns of the dataset and the preview of the data\n",
    "print(taxi_df.shape)\n",
    "taxi_df.head()"
   ]
  },
  {
   "cell_type": "code",
   "execution_count": 6,
   "id": "454ecd66",
   "metadata": {},
   "outputs": [
    {
     "data": {
      "text/html": [
       "<div>\n",
       "<style scoped>\n",
       "    .dataframe tbody tr th:only-of-type {\n",
       "        vertical-align: middle;\n",
       "    }\n",
       "\n",
       "    .dataframe tbody tr th {\n",
       "        vertical-align: top;\n",
       "    }\n",
       "\n",
       "    .dataframe thead th {\n",
       "        text-align: right;\n",
       "    }\n",
       "</style>\n",
       "<table border=\"1\" class=\"dataframe\">\n",
       "  <thead>\n",
       "    <tr style=\"text-align: right;\">\n",
       "      <th></th>\n",
       "      <th>VendorID</th>\n",
       "      <th>tpep_pickup_datetime</th>\n",
       "      <th>tpep_dropoff_datetime</th>\n",
       "      <th>passenger_count</th>\n",
       "      <th>trip_distance</th>\n",
       "      <th>RatecodeID</th>\n",
       "      <th>store_and_fwd_flag</th>\n",
       "      <th>PULocationID</th>\n",
       "      <th>DOLocationID</th>\n",
       "      <th>payment_type</th>\n",
       "      <th>fare_amount</th>\n",
       "      <th>extra</th>\n",
       "      <th>mta_tax</th>\n",
       "      <th>tip_amount</th>\n",
       "      <th>tolls_amount</th>\n",
       "      <th>improvement_surcharge</th>\n",
       "      <th>total_amount</th>\n",
       "      <th>congestion_surcharge</th>\n",
       "      <th>Airport_fee</th>\n",
       "    </tr>\n",
       "  </thead>\n",
       "  <tbody>\n",
       "    <tr>\n",
       "      <th>2964619</th>\n",
       "      <td>2</td>\n",
       "      <td>2024-01-31 23:45:59</td>\n",
       "      <td>2024-01-31 23:54:36</td>\n",
       "      <td>NaN</td>\n",
       "      <td>3.18</td>\n",
       "      <td>NaN</td>\n",
       "      <td>None</td>\n",
       "      <td>107</td>\n",
       "      <td>263</td>\n",
       "      <td>0</td>\n",
       "      <td>15.77</td>\n",
       "      <td>0.00</td>\n",
       "      <td>0.5</td>\n",
       "      <td>2.00</td>\n",
       "      <td>0.00</td>\n",
       "      <td>1.0</td>\n",
       "      <td>21.77</td>\n",
       "      <td>NaN</td>\n",
       "      <td>NaN</td>\n",
       "    </tr>\n",
       "    <tr>\n",
       "      <th>2964620</th>\n",
       "      <td>1</td>\n",
       "      <td>2024-01-31 23:13:07</td>\n",
       "      <td>2024-01-31 23:27:52</td>\n",
       "      <td>NaN</td>\n",
       "      <td>4.00</td>\n",
       "      <td>NaN</td>\n",
       "      <td>None</td>\n",
       "      <td>114</td>\n",
       "      <td>236</td>\n",
       "      <td>0</td>\n",
       "      <td>18.40</td>\n",
       "      <td>1.00</td>\n",
       "      <td>0.5</td>\n",
       "      <td>2.34</td>\n",
       "      <td>0.00</td>\n",
       "      <td>1.0</td>\n",
       "      <td>25.74</td>\n",
       "      <td>NaN</td>\n",
       "      <td>NaN</td>\n",
       "    </tr>\n",
       "    <tr>\n",
       "      <th>2964621</th>\n",
       "      <td>2</td>\n",
       "      <td>2024-01-31 23:19:00</td>\n",
       "      <td>2024-01-31 23:38:00</td>\n",
       "      <td>NaN</td>\n",
       "      <td>3.33</td>\n",
       "      <td>NaN</td>\n",
       "      <td>None</td>\n",
       "      <td>211</td>\n",
       "      <td>25</td>\n",
       "      <td>0</td>\n",
       "      <td>19.97</td>\n",
       "      <td>0.00</td>\n",
       "      <td>0.5</td>\n",
       "      <td>0.00</td>\n",
       "      <td>0.00</td>\n",
       "      <td>1.0</td>\n",
       "      <td>23.97</td>\n",
       "      <td>NaN</td>\n",
       "      <td>NaN</td>\n",
       "    </tr>\n",
       "    <tr>\n",
       "      <th>2964622</th>\n",
       "      <td>2</td>\n",
       "      <td>2024-01-31 23:07:23</td>\n",
       "      <td>2024-01-31 23:25:14</td>\n",
       "      <td>NaN</td>\n",
       "      <td>3.06</td>\n",
       "      <td>NaN</td>\n",
       "      <td>None</td>\n",
       "      <td>107</td>\n",
       "      <td>13</td>\n",
       "      <td>0</td>\n",
       "      <td>23.88</td>\n",
       "      <td>0.00</td>\n",
       "      <td>0.5</td>\n",
       "      <td>5.58</td>\n",
       "      <td>0.00</td>\n",
       "      <td>1.0</td>\n",
       "      <td>33.46</td>\n",
       "      <td>NaN</td>\n",
       "      <td>NaN</td>\n",
       "    </tr>\n",
       "    <tr>\n",
       "      <th>2964623</th>\n",
       "      <td>1</td>\n",
       "      <td>2024-01-31 23:58:25</td>\n",
       "      <td>2024-02-01 00:13:30</td>\n",
       "      <td>NaN</td>\n",
       "      <td>8.10</td>\n",
       "      <td>NaN</td>\n",
       "      <td>None</td>\n",
       "      <td>138</td>\n",
       "      <td>75</td>\n",
       "      <td>0</td>\n",
       "      <td>32.40</td>\n",
       "      <td>7.75</td>\n",
       "      <td>0.5</td>\n",
       "      <td>7.29</td>\n",
       "      <td>6.94</td>\n",
       "      <td>1.0</td>\n",
       "      <td>55.88</td>\n",
       "      <td>NaN</td>\n",
       "      <td>NaN</td>\n",
       "    </tr>\n",
       "  </tbody>\n",
       "</table>\n",
       "</div>"
      ],
      "text/plain": [
       "         VendorID tpep_pickup_datetime tpep_dropoff_datetime  passenger_count  \\\n",
       "2964619         2  2024-01-31 23:45:59   2024-01-31 23:54:36              NaN   \n",
       "2964620         1  2024-01-31 23:13:07   2024-01-31 23:27:52              NaN   \n",
       "2964621         2  2024-01-31 23:19:00   2024-01-31 23:38:00              NaN   \n",
       "2964622         2  2024-01-31 23:07:23   2024-01-31 23:25:14              NaN   \n",
       "2964623         1  2024-01-31 23:58:25   2024-02-01 00:13:30              NaN   \n",
       "\n",
       "         trip_distance  RatecodeID store_and_fwd_flag  PULocationID  \\\n",
       "2964619           3.18         NaN               None           107   \n",
       "2964620           4.00         NaN               None           114   \n",
       "2964621           3.33         NaN               None           211   \n",
       "2964622           3.06         NaN               None           107   \n",
       "2964623           8.10         NaN               None           138   \n",
       "\n",
       "         DOLocationID  payment_type  fare_amount  extra  mta_tax  tip_amount  \\\n",
       "2964619           263             0        15.77   0.00      0.5        2.00   \n",
       "2964620           236             0        18.40   1.00      0.5        2.34   \n",
       "2964621            25             0        19.97   0.00      0.5        0.00   \n",
       "2964622            13             0        23.88   0.00      0.5        5.58   \n",
       "2964623            75             0        32.40   7.75      0.5        7.29   \n",
       "\n",
       "         tolls_amount  improvement_surcharge  total_amount  \\\n",
       "2964619          0.00                    1.0         21.77   \n",
       "2964620          0.00                    1.0         25.74   \n",
       "2964621          0.00                    1.0         23.97   \n",
       "2964622          0.00                    1.0         33.46   \n",
       "2964623          6.94                    1.0         55.88   \n",
       "\n",
       "         congestion_surcharge  Airport_fee  \n",
       "2964619                   NaN          NaN  \n",
       "2964620                   NaN          NaN  \n",
       "2964621                   NaN          NaN  \n",
       "2964622                   NaN          NaN  \n",
       "2964623                   NaN          NaN  "
      ]
     },
     "execution_count": 6,
     "metadata": {},
     "output_type": "execute_result"
    }
   ],
   "source": [
    "#print the end of the dataset \n",
    "taxi_df.tail()"
   ]
  },
  {
   "cell_type": "markdown",
   "id": "76fee188",
   "metadata": {},
   "source": [
    "# 2. Data Exploration \n",
    "<a id=\"data_exploration\"></a>\n",
    "<br>\n",
    "[Back to the Top](#table-of-contents)"
   ]
  },
  {
   "cell_type": "code",
   "execution_count": 7,
   "id": "bd7e5f6c",
   "metadata": {},
   "outputs": [
    {
     "data": {
      "text/plain": [
       "Index(['VendorID', 'tpep_pickup_datetime', 'tpep_dropoff_datetime',\n",
       "       'passenger_count', 'trip_distance', 'RatecodeID', 'store_and_fwd_flag',\n",
       "       'PULocationID', 'DOLocationID', 'payment_type', 'fare_amount', 'extra',\n",
       "       'mta_tax', 'tip_amount', 'tolls_amount', 'improvement_surcharge',\n",
       "       'total_amount', 'congestion_surcharge', 'Airport_fee'],\n",
       "      dtype='object')"
      ]
     },
     "execution_count": 7,
     "metadata": {},
     "output_type": "execute_result"
    }
   ],
   "source": [
    "#Display the columns of the dataset\n",
    "taxi_df.columns"
   ]
  },
  {
   "cell_type": "code",
   "execution_count": 8,
   "id": "cfcc57f2",
   "metadata": {},
   "outputs": [],
   "source": [
    "#Drop some olumns that wont be relevant to the predictive algorithm \n",
    "taxi_data = taxi_df[['tpep_pickup_datetime', 'tpep_dropoff_datetime',\n",
    "       'passenger_count', 'trip_distance', 'RatecodeID', \n",
    "       'PULocationID', 'DOLocationID', 'payment_type', \n",
    "       'total_amount']]"
   ]
  },
  {
   "cell_type": "code",
   "execution_count": 9,
   "id": "d80c767c",
   "metadata": {},
   "outputs": [
    {
     "data": {
      "text/html": [
       "<div>\n",
       "<style scoped>\n",
       "    .dataframe tbody tr th:only-of-type {\n",
       "        vertical-align: middle;\n",
       "    }\n",
       "\n",
       "    .dataframe tbody tr th {\n",
       "        vertical-align: top;\n",
       "    }\n",
       "\n",
       "    .dataframe thead th {\n",
       "        text-align: right;\n",
       "    }\n",
       "</style>\n",
       "<table border=\"1\" class=\"dataframe\">\n",
       "  <thead>\n",
       "    <tr style=\"text-align: right;\">\n",
       "      <th></th>\n",
       "      <th>tpep_pickup_datetime</th>\n",
       "      <th>tpep_dropoff_datetime</th>\n",
       "      <th>passenger_count</th>\n",
       "      <th>trip_distance</th>\n",
       "      <th>RatecodeID</th>\n",
       "      <th>PULocationID</th>\n",
       "      <th>DOLocationID</th>\n",
       "      <th>payment_type</th>\n",
       "      <th>total_amount</th>\n",
       "    </tr>\n",
       "  </thead>\n",
       "  <tbody>\n",
       "    <tr>\n",
       "      <th>0</th>\n",
       "      <td>2024-01-01 00:57:55</td>\n",
       "      <td>2024-01-01 01:17:43</td>\n",
       "      <td>1.0</td>\n",
       "      <td>1.72</td>\n",
       "      <td>1.0</td>\n",
       "      <td>186</td>\n",
       "      <td>79</td>\n",
       "      <td>2</td>\n",
       "      <td>22.70</td>\n",
       "    </tr>\n",
       "    <tr>\n",
       "      <th>1</th>\n",
       "      <td>2024-01-01 00:03:00</td>\n",
       "      <td>2024-01-01 00:09:36</td>\n",
       "      <td>1.0</td>\n",
       "      <td>1.80</td>\n",
       "      <td>1.0</td>\n",
       "      <td>140</td>\n",
       "      <td>236</td>\n",
       "      <td>1</td>\n",
       "      <td>18.75</td>\n",
       "    </tr>\n",
       "    <tr>\n",
       "      <th>2</th>\n",
       "      <td>2024-01-01 00:17:06</td>\n",
       "      <td>2024-01-01 00:35:01</td>\n",
       "      <td>1.0</td>\n",
       "      <td>4.70</td>\n",
       "      <td>1.0</td>\n",
       "      <td>236</td>\n",
       "      <td>79</td>\n",
       "      <td>1</td>\n",
       "      <td>31.30</td>\n",
       "    </tr>\n",
       "    <tr>\n",
       "      <th>3</th>\n",
       "      <td>2024-01-01 00:36:38</td>\n",
       "      <td>2024-01-01 00:44:56</td>\n",
       "      <td>1.0</td>\n",
       "      <td>1.40</td>\n",
       "      <td>1.0</td>\n",
       "      <td>79</td>\n",
       "      <td>211</td>\n",
       "      <td>1</td>\n",
       "      <td>17.00</td>\n",
       "    </tr>\n",
       "    <tr>\n",
       "      <th>4</th>\n",
       "      <td>2024-01-01 00:46:51</td>\n",
       "      <td>2024-01-01 00:52:57</td>\n",
       "      <td>1.0</td>\n",
       "      <td>0.80</td>\n",
       "      <td>1.0</td>\n",
       "      <td>211</td>\n",
       "      <td>148</td>\n",
       "      <td>1</td>\n",
       "      <td>16.10</td>\n",
       "    </tr>\n",
       "  </tbody>\n",
       "</table>\n",
       "</div>"
      ],
      "text/plain": [
       "  tpep_pickup_datetime tpep_dropoff_datetime  passenger_count  trip_distance  \\\n",
       "0  2024-01-01 00:57:55   2024-01-01 01:17:43              1.0           1.72   \n",
       "1  2024-01-01 00:03:00   2024-01-01 00:09:36              1.0           1.80   \n",
       "2  2024-01-01 00:17:06   2024-01-01 00:35:01              1.0           4.70   \n",
       "3  2024-01-01 00:36:38   2024-01-01 00:44:56              1.0           1.40   \n",
       "4  2024-01-01 00:46:51   2024-01-01 00:52:57              1.0           0.80   \n",
       "\n",
       "   RatecodeID  PULocationID  DOLocationID  payment_type  total_amount  \n",
       "0         1.0           186            79             2         22.70  \n",
       "1         1.0           140           236             1         18.75  \n",
       "2         1.0           236            79             1         31.30  \n",
       "3         1.0            79           211             1         17.00  \n",
       "4         1.0           211           148             1         16.10  "
      ]
     },
     "execution_count": 9,
     "metadata": {},
     "output_type": "execute_result"
    }
   ],
   "source": [
    "#print the preview of the data\n",
    "taxi_data.head()"
   ]
  },
  {
   "cell_type": "code",
   "execution_count": 10,
   "id": "3d195f96",
   "metadata": {},
   "outputs": [
    {
     "data": {
      "image/png": "[encoded data removed]",
      "text/plain": [
       "<Figure size 2000x1000 with 9 Axes>"
      ]
     },
     "metadata": {},
     "output_type": "display_data"
    }
   ],
   "source": [
    "#plotting help explore the data \n",
    "taxi_data.hist(figsize=(20, 10), bins =60)\n",
    "plt.show()"
   ]
  },
  {
   "cell_type": "markdown",
   "id": "b81de17e",
   "metadata": {},
   "source": [
    "* tpep_pickup_date = It shows that all the data was collected in the 2024 so that shows that data is accurate \n",
    "* tpep_dropoff_datetime = It shows that all the data was collected in the 2024 so that shows that data is accurate\n",
    "* passenger_count = The graph shows that most of the passengers that pick the taxi was between 1 and 4 and there are some few outliers like *0, 8 and 10*, which could be a human error because it is entered manually by the driver \n",
    "* trip_distance = The elapsed trip distance in miles reported by the taximeter, from the graph most of the data points are within 0 and 1000miles and some few outliers which are greater that 10000miles \n",
    "* RatecodeID = The final rate code in effect at the end of the trip, from the graph it shows that most commuters paid a regular fare charged by the taxi. \n",
    "* PULocationID =  TLC Taxi Zone in which the taximeter was engaged\n",
    "* DOLocationID =  TLC Taxi Zone in which the taximeter was disengaged\n",
    "* payment_type = A numeric code signifying how the passenger paid for the trip(1= Credit card, 2= Cash, 3= No charge 4= Dispute, 5= Unknown, 6= Voided trip), from the graph we can tell that most of the mode of payment was credit card and cash, with an outlier 0 - which would have to be investigated\n",
    "* total_amount = The total amount charged to passengers. Does not include cash tips, the graph shows that most passengers paid between 1-100USD, there are outliers like USD5000 - which would have to investigated. \n"
   ]
  },
  {
   "cell_type": "code",
   "execution_count": 11,
   "id": "cf12f734",
   "metadata": {
    "scrolled": false
   },
   "outputs": [
    {
     "data": {
      "image/png": "[encoded data removed]",
      "text/plain": [
       "<Figure size 800x600 with 2 Axes>"
      ]
     },
     "metadata": {},
     "output_type": "display_data"
    }
   ],
   "source": [
    "corr_matrix = taxi_data.corr()\n",
    "\n",
    "# Plot correlation heatmap\n",
    "plt.figure(figsize=(8, 6))\n",
    "sns.heatmap(corr_matrix, annot=True, cmap='coolwarm', vmin=-1, vmax=1, fmt=\".2f\")\n",
    "plt.title('Correlation Heatmap')\n",
    "plt.show()"
   ]
  },
  {
   "cell_type": "code",
   "execution_count": 12,
   "id": "590fd91c",
   "metadata": {},
   "outputs": [
    {
     "name": "stdout",
     "output_type": "stream",
     "text": [
      "<class 'pandas.core.frame.DataFrame'>\n",
      "RangeIndex: 2964624 entries, 0 to 2964623\n",
      "Data columns (total 9 columns):\n",
      " #   Column                 Dtype         \n",
      "---  ------                 -----         \n",
      " 0   tpep_pickup_datetime   datetime64[ns]\n",
      " 1   tpep_dropoff_datetime  datetime64[ns]\n",
      " 2   passenger_count        float64       \n",
      " 3   trip_distance          float64       \n",
      " 4   RatecodeID             float64       \n",
      " 5   PULocationID           int32         \n",
      " 6   DOLocationID           int32         \n",
      " 7   payment_type           int64         \n",
      " 8   total_amount           float64       \n",
      "dtypes: datetime64[ns](2), float64(4), int32(2), int64(1)\n",
      "memory usage: 180.9 MB\n"
     ]
    }
   ],
   "source": [
    "taxi_data.info()"
   ]
  },
  {
   "cell_type": "code",
   "execution_count": 13,
   "id": "ce0b5598",
   "metadata": {},
   "outputs": [
    {
     "data": {
      "image/png": "[encoded data removed]",
      "text/plain": [
       "<Figure size 1000x500 with 1 Axes>"
      ]
     },
     "metadata": {},
     "output_type": "display_data"
    }
   ],
   "source": [
    "#Plot a scatterplot to visualize the distribution of the total amount paid by commuters \n",
    "taxi_data.reset_index().plot(kind='scatter', y='total_amount', x= 'index', figsize=(10,5))\n",
    "plt.show()"
   ]
  },
  {
   "cell_type": "code",
   "execution_count": 14,
   "id": "2bbacd9e",
   "metadata": {},
   "outputs": [
    {
     "data": {
      "image/png": "[encoded data removed]",
      "text/plain": [
       "<Figure size 1000x500 with 1 Axes>"
      ]
     },
     "metadata": {},
     "output_type": "display_data"
    }
   ],
   "source": [
    "taxi_data[taxi_data['total_amount']<1000].reset_index()\\\n",
    ".plot(kind='scatter', y='total_amount', x='index', figsize=(10,5))\n",
    "plt.show()"
   ]
  },
  {
   "cell_type": "markdown",
   "id": "66b90caf",
   "metadata": {},
   "source": [
    "#### Two things to deal with negative values and high values "
   ]
  },
  {
   "cell_type": "code",
   "execution_count": 15,
   "id": "8b166948",
   "metadata": {},
   "outputs": [
    {
     "name": "stdout",
     "output_type": "stream",
     "text": [
      "(35504, 9)\n"
     ]
    },
    {
     "data": {
      "image/png": "[encoded data removed]",
      "text/plain": [
       "<Figure size 1000x500 with 1 Axes>"
      ]
     },
     "metadata": {},
     "output_type": "display_data"
    }
   ],
   "source": [
    "print(taxi_data[taxi_data['total_amount']<0].shape)\n",
    "taxi_data[taxi_data['total_amount']<0].reset_index()\\\n",
    ".plot(kind='scatter', y='total_amount', x='index', figsize=(10,5))\n",
    "plt.show()"
   ]
  },
  {
   "cell_type": "code",
   "execution_count": 16,
   "id": "b98ed8b2",
   "metadata": {},
   "outputs": [
    {
     "data": {
      "text/html": [
       "<div>\n",
       "<style scoped>\n",
       "    .dataframe tbody tr th:only-of-type {\n",
       "        vertical-align: middle;\n",
       "    }\n",
       "\n",
       "    .dataframe tbody tr th {\n",
       "        vertical-align: top;\n",
       "    }\n",
       "\n",
       "    .dataframe thead th {\n",
       "        text-align: right;\n",
       "    }\n",
       "</style>\n",
       "<table border=\"1\" class=\"dataframe\">\n",
       "  <thead>\n",
       "    <tr style=\"text-align: right;\">\n",
       "      <th></th>\n",
       "      <th>tpep_pickup_datetime</th>\n",
       "      <th>tpep_dropoff_datetime</th>\n",
       "      <th>passenger_count</th>\n",
       "      <th>trip_distance</th>\n",
       "      <th>RatecodeID</th>\n",
       "      <th>PULocationID</th>\n",
       "      <th>DOLocationID</th>\n",
       "      <th>payment_type</th>\n",
       "      <th>total_amount</th>\n",
       "    </tr>\n",
       "  </thead>\n",
       "  <tbody>\n",
       "    <tr>\n",
       "      <th>99</th>\n",
       "      <td>2024-01-01 00:18:24</td>\n",
       "      <td>2024-01-01 00:30:39</td>\n",
       "      <td>1.0</td>\n",
       "      <td>2.16</td>\n",
       "      <td>1.0</td>\n",
       "      <td>249</td>\n",
       "      <td>232</td>\n",
       "      <td>4</td>\n",
       "      <td>-18.50</td>\n",
       "    </tr>\n",
       "    <tr>\n",
       "      <th>506</th>\n",
       "      <td>2024-01-01 00:04:00</td>\n",
       "      <td>2024-01-01 00:04:44</td>\n",
       "      <td>1.0</td>\n",
       "      <td>0.01</td>\n",
       "      <td>5.0</td>\n",
       "      <td>63</td>\n",
       "      <td>63</td>\n",
       "      <td>2</td>\n",
       "      <td>-34.25</td>\n",
       "    </tr>\n",
       "    <tr>\n",
       "      <th>536</th>\n",
       "      <td>2024-01-01 00:41:42</td>\n",
       "      <td>2024-01-01 00:46:00</td>\n",
       "      <td>1.0</td>\n",
       "      <td>0.47</td>\n",
       "      <td>1.0</td>\n",
       "      <td>249</td>\n",
       "      <td>113</td>\n",
       "      <td>4</td>\n",
       "      <td>-10.80</td>\n",
       "    </tr>\n",
       "    <tr>\n",
       "      <th>552</th>\n",
       "      <td>2024-01-01 00:42:02</td>\n",
       "      <td>2024-01-01 01:14:33</td>\n",
       "      <td>1.0</td>\n",
       "      <td>5.48</td>\n",
       "      <td>1.0</td>\n",
       "      <td>107</td>\n",
       "      <td>61</td>\n",
       "      <td>2</td>\n",
       "      <td>-38.10</td>\n",
       "    </tr>\n",
       "    <tr>\n",
       "      <th>682</th>\n",
       "      <td>2024-01-01 00:24:02</td>\n",
       "      <td>2024-01-01 01:10:32</td>\n",
       "      <td>1.0</td>\n",
       "      <td>8.74</td>\n",
       "      <td>1.0</td>\n",
       "      <td>90</td>\n",
       "      <td>225</td>\n",
       "      <td>4</td>\n",
       "      <td>-52.80</td>\n",
       "    </tr>\n",
       "  </tbody>\n",
       "</table>\n",
       "</div>"
      ],
      "text/plain": [
       "    tpep_pickup_datetime tpep_dropoff_datetime  passenger_count  \\\n",
       "99   2024-01-01 00:18:24   2024-01-01 00:30:39              1.0   \n",
       "506  2024-01-01 00:04:00   2024-01-01 00:04:44              1.0   \n",
       "536  2024-01-01 00:41:42   2024-01-01 00:46:00              1.0   \n",
       "552  2024-01-01 00:42:02   2024-01-01 01:14:33              1.0   \n",
       "682  2024-01-01 00:24:02   2024-01-01 01:10:32              1.0   \n",
       "\n",
       "     trip_distance  RatecodeID  PULocationID  DOLocationID  payment_type  \\\n",
       "99            2.16         1.0           249           232             4   \n",
       "506           0.01         5.0            63            63             2   \n",
       "536           0.47         1.0           249           113             4   \n",
       "552           5.48         1.0           107            61             2   \n",
       "682           8.74         1.0            90           225             4   \n",
       "\n",
       "     total_amount  \n",
       "99         -18.50  \n",
       "506        -34.25  \n",
       "536        -10.80  \n",
       "552        -38.10  \n",
       "682        -52.80  "
      ]
     },
     "execution_count": 16,
     "metadata": {},
     "output_type": "execute_result"
    }
   ],
   "source": [
    "taxi_data[taxi_data['total_amount']<0].head()"
   ]
  },
  {
   "cell_type": "code",
   "execution_count": 17,
   "id": "06d20981",
   "metadata": {},
   "outputs": [
    {
     "data": {
      "text/plain": [
       "payment_type\n",
       "4    21406\n",
       "2     8326\n",
       "3     5741\n",
       "1       29\n",
       "0        2\n",
       "Name: count, dtype: int64"
      ]
     },
     "execution_count": 17,
     "metadata": {},
     "output_type": "execute_result"
    }
   ],
   "source": [
    "taxi_data[taxi_data['total_amount']<0]['payment_type'].value_counts()"
   ]
  },
  {
   "cell_type": "code",
   "execution_count": 18,
   "id": "f3b51bfa",
   "metadata": {},
   "outputs": [
    {
     "data": {
      "image/png": "[encoded data removed]",
      "text/plain": [
       "<Figure size 1000x500 with 1 Axes>"
      ]
     },
     "metadata": {},
     "output_type": "display_data"
    }
   ],
   "source": [
    "taxi_data[taxi_data['total_amount']<0]\\\n",
    "['trip_distance'].hist(bins=60, figsize=(10,5))\n",
    "plt.show()"
   ]
  },
  {
   "cell_type": "code",
   "execution_count": 19,
   "id": "7655bb0b",
   "metadata": {},
   "outputs": [
    {
     "name": "stdout",
     "output_type": "stream",
     "text": [
      "(416, 9)\n"
     ]
    },
    {
     "data": {
      "text/html": [
       "<div>\n",
       "<style scoped>\n",
       "    .dataframe tbody tr th:only-of-type {\n",
       "        vertical-align: middle;\n",
       "    }\n",
       "\n",
       "    .dataframe tbody tr th {\n",
       "        vertical-align: top;\n",
       "    }\n",
       "\n",
       "    .dataframe thead th {\n",
       "        text-align: right;\n",
       "    }\n",
       "</style>\n",
       "<table border=\"1\" class=\"dataframe\">\n",
       "  <thead>\n",
       "    <tr style=\"text-align: right;\">\n",
       "      <th></th>\n",
       "      <th>tpep_pickup_datetime</th>\n",
       "      <th>tpep_dropoff_datetime</th>\n",
       "      <th>passenger_count</th>\n",
       "      <th>trip_distance</th>\n",
       "      <th>RatecodeID</th>\n",
       "      <th>PULocationID</th>\n",
       "      <th>DOLocationID</th>\n",
       "      <th>payment_type</th>\n",
       "      <th>total_amount</th>\n",
       "    </tr>\n",
       "  </thead>\n",
       "  <tbody>\n",
       "    <tr>\n",
       "      <th>854</th>\n",
       "      <td>2024-01-01 00:27:42</td>\n",
       "      <td>2024-01-01 00:28:49</td>\n",
       "      <td>1.0</td>\n",
       "      <td>0.2</td>\n",
       "      <td>1.0</td>\n",
       "      <td>239</td>\n",
       "      <td>143</td>\n",
       "      <td>4</td>\n",
       "      <td>0.0</td>\n",
       "    </tr>\n",
       "    <tr>\n",
       "      <th>29224</th>\n",
       "      <td>2024-01-01 10:01:27</td>\n",
       "      <td>2024-01-01 10:01:27</td>\n",
       "      <td>1.0</td>\n",
       "      <td>0.0</td>\n",
       "      <td>5.0</td>\n",
       "      <td>239</td>\n",
       "      <td>264</td>\n",
       "      <td>2</td>\n",
       "      <td>0.0</td>\n",
       "    </tr>\n",
       "    <tr>\n",
       "      <th>39191</th>\n",
       "      <td>2024-01-01 13:46:41</td>\n",
       "      <td>2024-01-01 14:12:06</td>\n",
       "      <td>1.0</td>\n",
       "      <td>0.0</td>\n",
       "      <td>99.0</td>\n",
       "      <td>42</td>\n",
       "      <td>216</td>\n",
       "      <td>1</td>\n",
       "      <td>0.0</td>\n",
       "    </tr>\n",
       "    <tr>\n",
       "      <th>39591</th>\n",
       "      <td>2024-01-01 13:03:22</td>\n",
       "      <td>2024-01-01 13:03:24</td>\n",
       "      <td>1.0</td>\n",
       "      <td>0.0</td>\n",
       "      <td>1.0</td>\n",
       "      <td>264</td>\n",
       "      <td>264</td>\n",
       "      <td>2</td>\n",
       "      <td>0.0</td>\n",
       "    </tr>\n",
       "    <tr>\n",
       "      <th>39592</th>\n",
       "      <td>2024-01-01 13:05:28</td>\n",
       "      <td>2024-01-01 13:05:35</td>\n",
       "      <td>1.0</td>\n",
       "      <td>0.0</td>\n",
       "      <td>1.0</td>\n",
       "      <td>193</td>\n",
       "      <td>193</td>\n",
       "      <td>2</td>\n",
       "      <td>0.0</td>\n",
       "    </tr>\n",
       "  </tbody>\n",
       "</table>\n",
       "</div>"
      ],
      "text/plain": [
       "      tpep_pickup_datetime tpep_dropoff_datetime  passenger_count  \\\n",
       "854    2024-01-01 00:27:42   2024-01-01 00:28:49              1.0   \n",
       "29224  2024-01-01 10:01:27   2024-01-01 10:01:27              1.0   \n",
       "39191  2024-01-01 13:46:41   2024-01-01 14:12:06              1.0   \n",
       "39591  2024-01-01 13:03:22   2024-01-01 13:03:24              1.0   \n",
       "39592  2024-01-01 13:05:28   2024-01-01 13:05:35              1.0   \n",
       "\n",
       "       trip_distance  RatecodeID  PULocationID  DOLocationID  payment_type  \\\n",
       "854              0.2         1.0           239           143             4   \n",
       "29224            0.0         5.0           239           264             2   \n",
       "39191            0.0        99.0            42           216             1   \n",
       "39591            0.0         1.0           264           264             2   \n",
       "39592            0.0         1.0           193           193             2   \n",
       "\n",
       "       total_amount  \n",
       "854             0.0  \n",
       "29224           0.0  \n",
       "39191           0.0  \n",
       "39591           0.0  \n",
       "39592           0.0  "
      ]
     },
     "execution_count": 19,
     "metadata": {},
     "output_type": "execute_result"
    }
   ],
   "source": [
    "print(taxi_data[taxi_data['total_amount']==0].shape)\n",
    "taxi_data[taxi_data['total_amount']==0].head()"
   ]
  },
  {
   "cell_type": "code",
   "execution_count": 20,
   "id": "31a3dfb7",
   "metadata": {},
   "outputs": [
    {
     "data": {
      "text/plain": [
       "payment_type\n",
       "1    129\n",
       "4    128\n",
       "3     83\n",
       "2     65\n",
       "0     11\n",
       "Name: count, dtype: int64"
      ]
     },
     "execution_count": 20,
     "metadata": {},
     "output_type": "execute_result"
    }
   ],
   "source": [
    "taxi_data[taxi_data['total_amount']==0]['payment_type'].value_counts()"
   ]
  },
  {
   "cell_type": "code",
   "execution_count": 21,
   "id": "1daa3c67",
   "metadata": {},
   "outputs": [
    {
     "data": {
      "image/png": "[encoded data removed]",
      "text/plain": [
       "<Figure size 1000x500 with 1 Axes>"
      ]
     },
     "metadata": {},
     "output_type": "display_data"
    }
   ],
   "source": [
    "taxi_data[taxi_data['total_amount']==0]['trip_distance']\\\n",
    ".hist(bins=60, figsize=(10, 5))\n",
    "plt.show()"
   ]
  },
  {
   "cell_type": "code",
   "execution_count": 22,
   "id": "db10ced4",
   "metadata": {},
   "outputs": [],
   "source": [
    "#taxi_data[taxi_data['total_amount']==0]['trip_distance'].value_counts()"
   ]
  },
  {
   "cell_type": "code",
   "execution_count": 23,
   "id": "3acfbd90",
   "metadata": {},
   "outputs": [
    {
     "data": {
      "image/png": "[encoded data removed]",
      "text/plain": [
       "<Figure size 1000x500 with 1 Axes>"
      ]
     },
     "metadata": {},
     "output_type": "display_data"
    }
   ],
   "source": [
    "taxi_data.reset_index()\\\n",
    ".plot(kind='scatter', y='total_amount', x='index', figsize=(10,5))\n",
    "plt.show()"
   ]
  },
  {
   "cell_type": "code",
   "execution_count": 24,
   "id": "a8585a16",
   "metadata": {},
   "outputs": [
    {
     "data": {
      "text/plain": [
       "(2005, 9)"
      ]
     },
     "execution_count": 24,
     "metadata": {},
     "output_type": "execute_result"
    }
   ],
   "source": [
    "#taxi_data where total amount is greater tha 200 \n",
    "taxi_data[taxi_data['total_amount']>200].shape"
   ]
  },
  {
   "cell_type": "code",
   "execution_count": 25,
   "id": "69eecb03",
   "metadata": {},
   "outputs": [
    {
     "data": {
      "text/plain": [
       "26.801504770925415"
      ]
     },
     "execution_count": 25,
     "metadata": {},
     "output_type": "execute_result"
    }
   ],
   "source": [
    "#mean total_amount of the taxi_data\n",
    "taxi_data['total_amount'].mean()"
   ]
  },
  {
   "cell_type": "code",
   "execution_count": 26,
   "id": "2d66711d",
   "metadata": {},
   "outputs": [
    {
     "data": {
      "text/plain": [
       "20.1"
      ]
     },
     "execution_count": 26,
     "metadata": {},
     "output_type": "execute_result"
    }
   ],
   "source": [
    "#median total_amount of the taxi_data \n",
    "taxi_data['total_amount'].median()"
   ]
  },
  {
   "cell_type": "markdown",
   "id": "68043411",
   "metadata": {},
   "source": [
    "# 3. Data Cleaning \n",
    "<a id=\"data_cleaning\"></a>\n",
    "<br>\n",
    "[Back to the Top](#table-of-contents)"
   ]
  },
  {
   "cell_type": "code",
   "execution_count": 27,
   "id": "a5226c39",
   "metadata": {},
   "outputs": [],
   "source": [
    "taxi_data_filtered = taxi_data[(taxi_data['total_amount']>=0)\\\n",
    "                               & (taxi_data['total_amount'])<200]"
   ]
  },
  {
   "cell_type": "code",
   "execution_count": 28,
   "id": "cd1ba4f7",
   "metadata": {},
   "outputs": [
    {
     "name": "stdout",
     "output_type": "stream",
     "text": [
      "(2964624, 9)\n"
     ]
    }
   ],
   "source": [
    "#check for the number of rows and columns in the taxi_data_filtered dataset \n",
    "print(taxi_data_filtered.shape)"
   ]
  },
  {
   "cell_type": "code",
   "execution_count": 29,
   "id": "878d4543",
   "metadata": {},
   "outputs": [
    {
     "data": {
      "text/plain": [
       "tpep_pickup_datetime          0\n",
       "tpep_dropoff_datetime         0\n",
       "passenger_count          140162\n",
       "trip_distance                 0\n",
       "RatecodeID               140162\n",
       "PULocationID                  0\n",
       "DOLocationID                  0\n",
       "payment_type                  0\n",
       "total_amount                  0\n",
       "dtype: int64"
      ]
     },
     "execution_count": 29,
     "metadata": {},
     "output_type": "execute_result"
    }
   ],
   "source": [
    "#check for missing values\n",
    "taxi_data_filtered.isna().sum()"
   ]
  },
  {
   "cell_type": "code",
   "execution_count": 30,
   "id": "fb6bf57c",
   "metadata": {},
   "outputs": [
    {
     "data": {
      "text/html": [
       "<div>\n",
       "<style scoped>\n",
       "    .dataframe tbody tr th:only-of-type {\n",
       "        vertical-align: middle;\n",
       "    }\n",
       "\n",
       "    .dataframe tbody tr th {\n",
       "        vertical-align: top;\n",
       "    }\n",
       "\n",
       "    .dataframe thead th {\n",
       "        text-align: right;\n",
       "    }\n",
       "</style>\n",
       "<table border=\"1\" class=\"dataframe\">\n",
       "  <thead>\n",
       "    <tr style=\"text-align: right;\">\n",
       "      <th></th>\n",
       "      <th>tpep_pickup_datetime</th>\n",
       "      <th>tpep_dropoff_datetime</th>\n",
       "      <th>passenger_count</th>\n",
       "      <th>trip_distance</th>\n",
       "      <th>RatecodeID</th>\n",
       "      <th>PULocationID</th>\n",
       "      <th>DOLocationID</th>\n",
       "      <th>payment_type</th>\n",
       "      <th>total_amount</th>\n",
       "    </tr>\n",
       "  </thead>\n",
       "  <tbody>\n",
       "    <tr>\n",
       "      <th>2824462</th>\n",
       "      <td>2024-01-01 00:34:19</td>\n",
       "      <td>2024-01-01 00:51:22</td>\n",
       "      <td>NaN</td>\n",
       "      <td>2.04</td>\n",
       "      <td>NaN</td>\n",
       "      <td>143</td>\n",
       "      <td>141</td>\n",
       "      <td>0</td>\n",
       "      <td>16.72</td>\n",
       "    </tr>\n",
       "    <tr>\n",
       "      <th>2824463</th>\n",
       "      <td>2024-01-01 00:14:31</td>\n",
       "      <td>2024-01-01 00:19:29</td>\n",
       "      <td>NaN</td>\n",
       "      <td>1.60</td>\n",
       "      <td>NaN</td>\n",
       "      <td>236</td>\n",
       "      <td>238</td>\n",
       "      <td>0</td>\n",
       "      <td>17.16</td>\n",
       "    </tr>\n",
       "    <tr>\n",
       "      <th>2824464</th>\n",
       "      <td>2024-01-01 00:35:11</td>\n",
       "      <td>2024-01-01 01:13:40</td>\n",
       "      <td>NaN</td>\n",
       "      <td>0.00</td>\n",
       "      <td>NaN</td>\n",
       "      <td>142</td>\n",
       "      <td>79</td>\n",
       "      <td>0</td>\n",
       "      <td>25.01</td>\n",
       "    </tr>\n",
       "    <tr>\n",
       "      <th>2824465</th>\n",
       "      <td>2024-01-01 00:33:37</td>\n",
       "      <td>2024-01-01 00:50:34</td>\n",
       "      <td>NaN</td>\n",
       "      <td>0.00</td>\n",
       "      <td>NaN</td>\n",
       "      <td>237</td>\n",
       "      <td>4</td>\n",
       "      <td>0</td>\n",
       "      <td>21.79</td>\n",
       "    </tr>\n",
       "    <tr>\n",
       "      <th>2824466</th>\n",
       "      <td>2024-01-01 00:49:04</td>\n",
       "      <td>2024-01-01 01:01:16</td>\n",
       "      <td>NaN</td>\n",
       "      <td>0.00</td>\n",
       "      <td>NaN</td>\n",
       "      <td>244</td>\n",
       "      <td>50</td>\n",
       "      <td>0</td>\n",
       "      <td>38.65</td>\n",
       "    </tr>\n",
       "    <tr>\n",
       "      <th>...</th>\n",
       "      <td>...</td>\n",
       "      <td>...</td>\n",
       "      <td>...</td>\n",
       "      <td>...</td>\n",
       "      <td>...</td>\n",
       "      <td>...</td>\n",
       "      <td>...</td>\n",
       "      <td>...</td>\n",
       "      <td>...</td>\n",
       "    </tr>\n",
       "    <tr>\n",
       "      <th>2964619</th>\n",
       "      <td>2024-01-31 23:45:59</td>\n",
       "      <td>2024-01-31 23:54:36</td>\n",
       "      <td>NaN</td>\n",
       "      <td>3.18</td>\n",
       "      <td>NaN</td>\n",
       "      <td>107</td>\n",
       "      <td>263</td>\n",
       "      <td>0</td>\n",
       "      <td>21.77</td>\n",
       "    </tr>\n",
       "    <tr>\n",
       "      <th>2964620</th>\n",
       "      <td>2024-01-31 23:13:07</td>\n",
       "      <td>2024-01-31 23:27:52</td>\n",
       "      <td>NaN</td>\n",
       "      <td>4.00</td>\n",
       "      <td>NaN</td>\n",
       "      <td>114</td>\n",
       "      <td>236</td>\n",
       "      <td>0</td>\n",
       "      <td>25.74</td>\n",
       "    </tr>\n",
       "    <tr>\n",
       "      <th>2964621</th>\n",
       "      <td>2024-01-31 23:19:00</td>\n",
       "      <td>2024-01-31 23:38:00</td>\n",
       "      <td>NaN</td>\n",
       "      <td>3.33</td>\n",
       "      <td>NaN</td>\n",
       "      <td>211</td>\n",
       "      <td>25</td>\n",
       "      <td>0</td>\n",
       "      <td>23.97</td>\n",
       "    </tr>\n",
       "    <tr>\n",
       "      <th>2964622</th>\n",
       "      <td>2024-01-31 23:07:23</td>\n",
       "      <td>2024-01-31 23:25:14</td>\n",
       "      <td>NaN</td>\n",
       "      <td>3.06</td>\n",
       "      <td>NaN</td>\n",
       "      <td>107</td>\n",
       "      <td>13</td>\n",
       "      <td>0</td>\n",
       "      <td>33.46</td>\n",
       "    </tr>\n",
       "    <tr>\n",
       "      <th>2964623</th>\n",
       "      <td>2024-01-31 23:58:25</td>\n",
       "      <td>2024-02-01 00:13:30</td>\n",
       "      <td>NaN</td>\n",
       "      <td>8.10</td>\n",
       "      <td>NaN</td>\n",
       "      <td>138</td>\n",
       "      <td>75</td>\n",
       "      <td>0</td>\n",
       "      <td>55.88</td>\n",
       "    </tr>\n",
       "  </tbody>\n",
       "</table>\n",
       "<p>140162 rows × 9 columns</p>\n",
       "</div>"
      ],
      "text/plain": [
       "        tpep_pickup_datetime tpep_dropoff_datetime  passenger_count  \\\n",
       "2824462  2024-01-01 00:34:19   2024-01-01 00:51:22              NaN   \n",
       "2824463  2024-01-01 00:14:31   2024-01-01 00:19:29              NaN   \n",
       "2824464  2024-01-01 00:35:11   2024-01-01 01:13:40              NaN   \n",
       "2824465  2024-01-01 00:33:37   2024-01-01 00:50:34              NaN   \n",
       "2824466  2024-01-01 00:49:04   2024-01-01 01:01:16              NaN   \n",
       "...                      ...                   ...              ...   \n",
       "2964619  2024-01-31 23:45:59   2024-01-31 23:54:36              NaN   \n",
       "2964620  2024-01-31 23:13:07   2024-01-31 23:27:52              NaN   \n",
       "2964621  2024-01-31 23:19:00   2024-01-31 23:38:00              NaN   \n",
       "2964622  2024-01-31 23:07:23   2024-01-31 23:25:14              NaN   \n",
       "2964623  2024-01-31 23:58:25   2024-02-01 00:13:30              NaN   \n",
       "\n",
       "         trip_distance  RatecodeID  PULocationID  DOLocationID  payment_type  \\\n",
       "2824462           2.04         NaN           143           141             0   \n",
       "2824463           1.60         NaN           236           238             0   \n",
       "2824464           0.00         NaN           142            79             0   \n",
       "2824465           0.00         NaN           237             4             0   \n",
       "2824466           0.00         NaN           244            50             0   \n",
       "...                ...         ...           ...           ...           ...   \n",
       "2964619           3.18         NaN           107           263             0   \n",
       "2964620           4.00         NaN           114           236             0   \n",
       "2964621           3.33         NaN           211            25             0   \n",
       "2964622           3.06         NaN           107            13             0   \n",
       "2964623           8.10         NaN           138            75             0   \n",
       "\n",
       "         total_amount  \n",
       "2824462         16.72  \n",
       "2824463         17.16  \n",
       "2824464         25.01  \n",
       "2824465         21.79  \n",
       "2824466         38.65  \n",
       "...               ...  \n",
       "2964619         21.77  \n",
       "2964620         25.74  \n",
       "2964621         23.97  \n",
       "2964622         33.46  \n",
       "2964623         55.88  \n",
       "\n",
       "[140162 rows x 9 columns]"
      ]
     },
     "execution_count": 30,
     "metadata": {},
     "output_type": "execute_result"
    }
   ],
   "source": [
    "#Explore the empty values to find if there are some correlations why there are empty values \n",
    "taxi_data_filtered[(taxi_data_filtered['passenger_count'].isna())\\\n",
    "         &(taxi_data_filtered['RatecodeID'].isna())]"
   ]
  },
  {
   "cell_type": "code",
   "execution_count": 31,
   "id": "fb88edd7",
   "metadata": {},
   "outputs": [],
   "source": [
    "#drop empty values \n",
    "taxi_data_filtered.dropna(subset=['passenger_count', 'RatecodeID'], inplace=True)"
   ]
  },
  {
   "cell_type": "code",
   "execution_count": 32,
   "id": "4b94a6ac",
   "metadata": {},
   "outputs": [
    {
     "name": "stdout",
     "output_type": "stream",
     "text": [
      "(2824462, 9)\n"
     ]
    },
    {
     "data": {
      "text/plain": [
       "tpep_pickup_datetime     0\n",
       "tpep_dropoff_datetime    0\n",
       "passenger_count          0\n",
       "trip_distance            0\n",
       "RatecodeID               0\n",
       "PULocationID             0\n",
       "DOLocationID             0\n",
       "payment_type             0\n",
       "total_amount             0\n",
       "dtype: int64"
      ]
     },
     "execution_count": 32,
     "metadata": {},
     "output_type": "execute_result"
    }
   ],
   "source": [
    "print(taxi_data_filtered.shape)\n",
    "taxi_data_filtered.isna().sum()"
   ]
  },
  {
   "cell_type": "code",
   "execution_count": 33,
   "id": "a82fecaa",
   "metadata": {},
   "outputs": [
    {
     "data": {
      "text/plain": [
       "payment_type\n",
       "1    2319046\n",
       "2     439191\n",
       "4      46628\n",
       "3      19597\n",
       "Name: count, dtype: int64"
      ]
     },
     "execution_count": 33,
     "metadata": {},
     "output_type": "execute_result"
    }
   ],
   "source": [
    "#check for data range constraints \n",
    "taxi_data_filtered['payment_type'].value_counts()"
   ]
  },
  {
   "cell_type": "markdown",
   "id": "55934571",
   "metadata": {},
   "source": [
    "* From the value counts of payment type we can tell that the payment type column is accurate"
   ]
  },
  {
   "cell_type": "code",
   "execution_count": 34,
   "id": "c763dc53",
   "metadata": {},
   "outputs": [
    {
     "data": {
      "text/plain": [
       "RatecodeID\n",
       "1.0     2663350\n",
       "2.0       98713\n",
       "99.0      28663\n",
       "5.0       19410\n",
       "3.0        7954\n",
       "4.0        6365\n",
       "6.0           7\n",
       "Name: count, dtype: int64"
      ]
     },
     "execution_count": 34,
     "metadata": {},
     "output_type": "execute_result"
    }
   ],
   "source": [
    "#check for data range constraints \n",
    "taxi_data_filtered['RatecodeID'].value_counts()"
   ]
  },
  {
   "cell_type": "markdown",
   "id": "22982797",
   "metadata": {},
   "source": [
    "* From the value counts of RatecodeID, there is an outlier of 99.0 that is not suppose to be in the data range and would have to be dropped "
   ]
  },
  {
   "cell_type": "code",
   "execution_count": 35,
   "id": "decef49a",
   "metadata": {},
   "outputs": [
    {
     "name": "stdout",
     "output_type": "stream",
     "text": [
      "(2795799, 9)\n"
     ]
    }
   ],
   "source": [
    "#Drop the rows where ratecodeid == 99.0 \n",
    "taxi_data_filtered = taxi_data_filtered[taxi_data_filtered['RatecodeID'] != 99.0]\n",
    "print(taxi_data_filtered.shape)"
   ]
  },
  {
   "cell_type": "code",
   "execution_count": 36,
   "id": "6b6602c3",
   "metadata": {},
   "outputs": [
    {
     "data": {
      "text/plain": [
       "total_amount\n",
       " 16.80     45217\n",
       " 12.60     43108\n",
       " 21.00     35361\n",
       " 15.12     26474\n",
       " 15.96     26222\n",
       "           ...  \n",
       "-79.84         1\n",
       " 161.18        1\n",
       " 137.54        1\n",
       " 253.66        1\n",
       "-52.63         1\n",
       "Name: count, Length: 18328, dtype: int64"
      ]
     },
     "execution_count": 36,
     "metadata": {},
     "output_type": "execute_result"
    }
   ],
   "source": [
    "taxi_data_filtered['total_amount'].value_counts()"
   ]
  },
  {
   "cell_type": "code",
   "execution_count": 37,
   "id": "bd95227a",
   "metadata": {},
   "outputs": [
    {
     "data": {
      "text/html": [
       "<div>\n",
       "<style scoped>\n",
       "    .dataframe tbody tr th:only-of-type {\n",
       "        vertical-align: middle;\n",
       "    }\n",
       "\n",
       "    .dataframe tbody tr th {\n",
       "        vertical-align: top;\n",
       "    }\n",
       "\n",
       "    .dataframe thead th {\n",
       "        text-align: right;\n",
       "    }\n",
       "</style>\n",
       "<table border=\"1\" class=\"dataframe\">\n",
       "  <thead>\n",
       "    <tr style=\"text-align: right;\">\n",
       "      <th></th>\n",
       "      <th>tpep_pickup_datetime</th>\n",
       "      <th>tpep_dropoff_datetime</th>\n",
       "      <th>passenger_count</th>\n",
       "      <th>trip_distance</th>\n",
       "      <th>RatecodeID</th>\n",
       "      <th>PULocationID</th>\n",
       "      <th>DOLocationID</th>\n",
       "      <th>payment_type</th>\n",
       "      <th>total_amount</th>\n",
       "    </tr>\n",
       "  </thead>\n",
       "  <tbody>\n",
       "    <tr>\n",
       "      <th>0</th>\n",
       "      <td>2024-01-01 00:57:55</td>\n",
       "      <td>2024-01-01 01:17:43</td>\n",
       "      <td>1.0</td>\n",
       "      <td>1.72</td>\n",
       "      <td>1.0</td>\n",
       "      <td>186</td>\n",
       "      <td>79</td>\n",
       "      <td>2</td>\n",
       "      <td>22.70</td>\n",
       "    </tr>\n",
       "    <tr>\n",
       "      <th>1</th>\n",
       "      <td>2024-01-01 00:03:00</td>\n",
       "      <td>2024-01-01 00:09:36</td>\n",
       "      <td>1.0</td>\n",
       "      <td>1.80</td>\n",
       "      <td>1.0</td>\n",
       "      <td>140</td>\n",
       "      <td>236</td>\n",
       "      <td>1</td>\n",
       "      <td>18.75</td>\n",
       "    </tr>\n",
       "    <tr>\n",
       "      <th>2</th>\n",
       "      <td>2024-01-01 00:17:06</td>\n",
       "      <td>2024-01-01 00:35:01</td>\n",
       "      <td>1.0</td>\n",
       "      <td>4.70</td>\n",
       "      <td>1.0</td>\n",
       "      <td>236</td>\n",
       "      <td>79</td>\n",
       "      <td>1</td>\n",
       "      <td>31.30</td>\n",
       "    </tr>\n",
       "    <tr>\n",
       "      <th>3</th>\n",
       "      <td>2024-01-01 00:36:38</td>\n",
       "      <td>2024-01-01 00:44:56</td>\n",
       "      <td>1.0</td>\n",
       "      <td>1.40</td>\n",
       "      <td>1.0</td>\n",
       "      <td>79</td>\n",
       "      <td>211</td>\n",
       "      <td>1</td>\n",
       "      <td>17.00</td>\n",
       "    </tr>\n",
       "    <tr>\n",
       "      <th>4</th>\n",
       "      <td>2024-01-01 00:46:51</td>\n",
       "      <td>2024-01-01 00:52:57</td>\n",
       "      <td>1.0</td>\n",
       "      <td>0.80</td>\n",
       "      <td>1.0</td>\n",
       "      <td>211</td>\n",
       "      <td>148</td>\n",
       "      <td>1</td>\n",
       "      <td>16.10</td>\n",
       "    </tr>\n",
       "  </tbody>\n",
       "</table>\n",
       "</div>"
      ],
      "text/plain": [
       "  tpep_pickup_datetime tpep_dropoff_datetime  passenger_count  trip_distance  \\\n",
       "0  2024-01-01 00:57:55   2024-01-01 01:17:43              1.0           1.72   \n",
       "1  2024-01-01 00:03:00   2024-01-01 00:09:36              1.0           1.80   \n",
       "2  2024-01-01 00:17:06   2024-01-01 00:35:01              1.0           4.70   \n",
       "3  2024-01-01 00:36:38   2024-01-01 00:44:56              1.0           1.40   \n",
       "4  2024-01-01 00:46:51   2024-01-01 00:52:57              1.0           0.80   \n",
       "\n",
       "   RatecodeID  PULocationID  DOLocationID  payment_type  total_amount  \n",
       "0         1.0           186            79             2         22.70  \n",
       "1         1.0           140           236             1         18.75  \n",
       "2         1.0           236            79             1         31.30  \n",
       "3         1.0            79           211             1         17.00  \n",
       "4         1.0           211           148             1         16.10  "
      ]
     },
     "execution_count": 37,
     "metadata": {},
     "output_type": "execute_result"
    }
   ],
   "source": [
    "taxi_data_filtered.head()"
   ]
  },
  {
   "cell_type": "code",
   "execution_count": 38,
   "id": "a9545c06",
   "metadata": {},
   "outputs": [
    {
     "name": "stdout",
     "output_type": "stream",
     "text": [
      "<class 'pandas.core.frame.DataFrame'>\n",
      "Index: 2795799 entries, 0 to 2824461\n",
      "Data columns (total 9 columns):\n",
      " #   Column                 Dtype         \n",
      "---  ------                 -----         \n",
      " 0   tpep_pickup_datetime   datetime64[ns]\n",
      " 1   tpep_dropoff_datetime  datetime64[ns]\n",
      " 2   passenger_count        float64       \n",
      " 3   trip_distance          float64       \n",
      " 4   RatecodeID             float64       \n",
      " 5   PULocationID           int32         \n",
      " 6   DOLocationID           int32         \n",
      " 7   payment_type           int64         \n",
      " 8   total_amount           float64       \n",
      "dtypes: datetime64[ns](2), float64(4), int32(2), int64(1)\n",
      "memory usage: 192.0 MB\n"
     ]
    }
   ],
   "source": [
    "taxi_data_filtered.info()"
   ]
  },
  {
   "cell_type": "code",
   "execution_count": 39,
   "id": "1e7a4255",
   "metadata": {},
   "outputs": [
    {
     "data": {
      "text/html": [
       "<div>\n",
       "<style scoped>\n",
       "    .dataframe tbody tr th:only-of-type {\n",
       "        vertical-align: middle;\n",
       "    }\n",
       "\n",
       "    .dataframe tbody tr th {\n",
       "        vertical-align: top;\n",
       "    }\n",
       "\n",
       "    .dataframe thead th {\n",
       "        text-align: right;\n",
       "    }\n",
       "</style>\n",
       "<table border=\"1\" class=\"dataframe\">\n",
       "  <thead>\n",
       "    <tr style=\"text-align: right;\">\n",
       "      <th></th>\n",
       "      <th>tpep_pickup_datetime</th>\n",
       "      <th>tpep_dropoff_datetime</th>\n",
       "      <th>passenger_count</th>\n",
       "      <th>trip_distance</th>\n",
       "      <th>RatecodeID</th>\n",
       "      <th>PULocationID</th>\n",
       "      <th>DOLocationID</th>\n",
       "      <th>payment_type</th>\n",
       "      <th>total_amount</th>\n",
       "    </tr>\n",
       "  </thead>\n",
       "  <tbody>\n",
       "    <tr>\n",
       "      <th>count</th>\n",
       "      <td>2795799</td>\n",
       "      <td>2795799</td>\n",
       "      <td>2.795799e+06</td>\n",
       "      <td>2.795799e+06</td>\n",
       "      <td>2.795799e+06</td>\n",
       "      <td>2.795799e+06</td>\n",
       "      <td>2.795799e+06</td>\n",
       "      <td>2.795799e+06</td>\n",
       "      <td>2.795799e+06</td>\n",
       "    </tr>\n",
       "    <tr>\n",
       "      <th>mean</th>\n",
       "      <td>2024-01-17 01:05:09.516053504</td>\n",
       "      <td>2024-01-17 01:20:26.302648832</td>\n",
       "      <td>1.342754e+00</td>\n",
       "      <td>3.207189e+00</td>\n",
       "      <td>1.075610e+00</td>\n",
       "      <td>1.666517e+02</td>\n",
       "      <td>1.658680e+02</td>\n",
       "      <td>1.221134e+00</td>\n",
       "      <td>2.674900e+01</td>\n",
       "    </tr>\n",
       "    <tr>\n",
       "      <th>min</th>\n",
       "      <td>2002-12-31 22:59:39</td>\n",
       "      <td>2002-12-31 23:05:41</td>\n",
       "      <td>0.000000e+00</td>\n",
       "      <td>0.000000e+00</td>\n",
       "      <td>1.000000e+00</td>\n",
       "      <td>1.000000e+00</td>\n",
       "      <td>1.000000e+00</td>\n",
       "      <td>1.000000e+00</td>\n",
       "      <td>-9.000000e+02</td>\n",
       "    </tr>\n",
       "    <tr>\n",
       "      <th>25%</th>\n",
       "      <td>2024-01-09 15:35:16</td>\n",
       "      <td>2024-01-09 15:51:37</td>\n",
       "      <td>1.000000e+00</td>\n",
       "      <td>1.000000e+00</td>\n",
       "      <td>1.000000e+00</td>\n",
       "      <td>1.320000e+02</td>\n",
       "      <td>1.160000e+02</td>\n",
       "      <td>1.000000e+00</td>\n",
       "      <td>1.512000e+01</td>\n",
       "    </tr>\n",
       "    <tr>\n",
       "      <th>50%</th>\n",
       "      <td>2024-01-17 10:35:04</td>\n",
       "      <td>2024-01-17 10:53:07</td>\n",
       "      <td>1.000000e+00</td>\n",
       "      <td>1.650000e+00</td>\n",
       "      <td>1.000000e+00</td>\n",
       "      <td>1.620000e+02</td>\n",
       "      <td>1.620000e+02</td>\n",
       "      <td>1.000000e+00</td>\n",
       "      <td>1.980000e+01</td>\n",
       "    </tr>\n",
       "    <tr>\n",
       "      <th>75%</th>\n",
       "      <td>2024-01-24 18:45:32</td>\n",
       "      <td>2024-01-24 19:00:21</td>\n",
       "      <td>1.000000e+00</td>\n",
       "      <td>3.030000e+00</td>\n",
       "      <td>1.000000e+00</td>\n",
       "      <td>2.340000e+02</td>\n",
       "      <td>2.340000e+02</td>\n",
       "      <td>1.000000e+00</td>\n",
       "      <td>2.820000e+01</td>\n",
       "    </tr>\n",
       "    <tr>\n",
       "      <th>max</th>\n",
       "      <td>2024-02-01 00:01:15</td>\n",
       "      <td>2024-02-02 13:56:52</td>\n",
       "      <td>9.000000e+00</td>\n",
       "      <td>1.540032e+04</td>\n",
       "      <td>6.000000e+00</td>\n",
       "      <td>2.650000e+02</td>\n",
       "      <td>2.650000e+02</td>\n",
       "      <td>4.000000e+00</td>\n",
       "      <td>2.225300e+03</td>\n",
       "    </tr>\n",
       "    <tr>\n",
       "      <th>std</th>\n",
       "      <td>NaN</td>\n",
       "      <td>NaN</td>\n",
       "      <td>8.539132e-01</td>\n",
       "      <td>1.214368e+01</td>\n",
       "      <td>4.154563e-01</td>\n",
       "      <td>6.293934e+01</td>\n",
       "      <td>6.905405e+01</td>\n",
       "      <td>5.350827e-01</td>\n",
       "      <td>2.323823e+01</td>\n",
       "    </tr>\n",
       "  </tbody>\n",
       "</table>\n",
       "</div>"
      ],
      "text/plain": [
       "                tpep_pickup_datetime          tpep_dropoff_datetime  \\\n",
       "count                        2795799                        2795799   \n",
       "mean   2024-01-17 01:05:09.516053504  2024-01-17 01:20:26.302648832   \n",
       "min              2002-12-31 22:59:39            2002-12-31 23:05:41   \n",
       "25%              2024-01-09 15:35:16            2024-01-09 15:51:37   \n",
       "50%              2024-01-17 10:35:04            2024-01-17 10:53:07   \n",
       "75%              2024-01-24 18:45:32            2024-01-24 19:00:21   \n",
       "max              2024-02-01 00:01:15            2024-02-02 13:56:52   \n",
       "std                              NaN                            NaN   \n",
       "\n",
       "       passenger_count  trip_distance    RatecodeID  PULocationID  \\\n",
       "count     2.795799e+06   2.795799e+06  2.795799e+06  2.795799e+06   \n",
       "mean      1.342754e+00   3.207189e+00  1.075610e+00  1.666517e+02   \n",
       "min       0.000000e+00   0.000000e+00  1.000000e+00  1.000000e+00   \n",
       "25%       1.000000e+00   1.000000e+00  1.000000e+00  1.320000e+02   \n",
       "50%       1.000000e+00   1.650000e+00  1.000000e+00  1.620000e+02   \n",
       "75%       1.000000e+00   3.030000e+00  1.000000e+00  2.340000e+02   \n",
       "max       9.000000e+00   1.540032e+04  6.000000e+00  2.650000e+02   \n",
       "std       8.539132e-01   1.214368e+01  4.154563e-01  6.293934e+01   \n",
       "\n",
       "       DOLocationID  payment_type  total_amount  \n",
       "count  2.795799e+06  2.795799e+06  2.795799e+06  \n",
       "mean   1.658680e+02  1.221134e+00  2.674900e+01  \n",
       "min    1.000000e+00  1.000000e+00 -9.000000e+02  \n",
       "25%    1.160000e+02  1.000000e+00  1.512000e+01  \n",
       "50%    1.620000e+02  1.000000e+00  1.980000e+01  \n",
       "75%    2.340000e+02  1.000000e+00  2.820000e+01  \n",
       "max    2.650000e+02  4.000000e+00  2.225300e+03  \n",
       "std    6.905405e+01  5.350827e-01  2.323823e+01  "
      ]
     },
     "execution_count": 39,
     "metadata": {},
     "output_type": "execute_result"
    }
   ],
   "source": [
    "taxi_data_filtered.describe()"
   ]
  },
  {
   "cell_type": "code",
   "execution_count": 40,
   "id": "31b73f71",
   "metadata": {
    "scrolled": false
   },
   "outputs": [
    {
     "data": {
      "text/html": [
       "<div>\n",
       "<style scoped>\n",
       "    .dataframe tbody tr th:only-of-type {\n",
       "        vertical-align: middle;\n",
       "    }\n",
       "\n",
       "    .dataframe tbody tr th {\n",
       "        vertical-align: top;\n",
       "    }\n",
       "\n",
       "    .dataframe thead th {\n",
       "        text-align: right;\n",
       "    }\n",
       "</style>\n",
       "<table border=\"1\" class=\"dataframe\">\n",
       "  <thead>\n",
       "    <tr style=\"text-align: right;\">\n",
       "      <th></th>\n",
       "      <th>tpep_pickup_datetime</th>\n",
       "      <th>tpep_dropoff_datetime</th>\n",
       "      <th>passenger_count</th>\n",
       "      <th>trip_distance</th>\n",
       "      <th>RatecodeID</th>\n",
       "      <th>PULocationID</th>\n",
       "      <th>DOLocationID</th>\n",
       "      <th>payment_type</th>\n",
       "      <th>total_amount</th>\n",
       "    </tr>\n",
       "  </thead>\n",
       "  <tbody>\n",
       "    <tr>\n",
       "      <th>53119</th>\n",
       "      <td>2002-12-31 22:59:39</td>\n",
       "      <td>2002-12-31 23:05:41</td>\n",
       "      <td>1.0</td>\n",
       "      <td>0.63</td>\n",
       "      <td>1.0</td>\n",
       "      <td>170</td>\n",
       "      <td>170</td>\n",
       "      <td>3</td>\n",
       "      <td>-10.5</td>\n",
       "    </tr>\n",
       "    <tr>\n",
       "      <th>53120</th>\n",
       "      <td>2002-12-31 22:59:39</td>\n",
       "      <td>2002-12-31 23:05:41</td>\n",
       "      <td>1.0</td>\n",
       "      <td>0.63</td>\n",
       "      <td>1.0</td>\n",
       "      <td>170</td>\n",
       "      <td>170</td>\n",
       "      <td>3</td>\n",
       "      <td>10.5</td>\n",
       "    </tr>\n",
       "  </tbody>\n",
       "</table>\n",
       "</div>"
      ],
      "text/plain": [
       "      tpep_pickup_datetime tpep_dropoff_datetime  passenger_count  \\\n",
       "53119  2002-12-31 22:59:39   2002-12-31 23:05:41              1.0   \n",
       "53120  2002-12-31 22:59:39   2002-12-31 23:05:41              1.0   \n",
       "\n",
       "       trip_distance  RatecodeID  PULocationID  DOLocationID  payment_type  \\\n",
       "53119           0.63         1.0           170           170             3   \n",
       "53120           0.63         1.0           170           170             3   \n",
       "\n",
       "       total_amount  \n",
       "53119         -10.5  \n",
       "53120          10.5  "
      ]
     },
     "execution_count": 40,
     "metadata": {},
     "output_type": "execute_result"
    }
   ],
   "source": [
    "taxi_data_filtered[taxi_data_filtered['tpep_pickup_datetime'] == '2002-12-31 22:59:39']"
   ]
  },
  {
   "cell_type": "markdown",
   "id": "c5c53e26",
   "metadata": {},
   "source": [
    "* While prepping the data, there was an outlier found that is year 2002 which would have be investigated and cleaned "
   ]
  },
  {
   "cell_type": "code",
   "execution_count": 41,
   "id": "7df04d58",
   "metadata": {},
   "outputs": [],
   "source": [
    "taxi_data_filtered = taxi_data_filtered[taxi_data_filtered['tpep_pickup_datetime'] \\\n",
    "                                        != '2002-12-31 22:59:39']"
   ]
  },
  {
   "cell_type": "code",
   "execution_count": 42,
   "id": "d987d776",
   "metadata": {},
   "outputs": [
    {
     "data": {
      "text/html": [
       "<div>\n",
       "<style scoped>\n",
       "    .dataframe tbody tr th:only-of-type {\n",
       "        vertical-align: middle;\n",
       "    }\n",
       "\n",
       "    .dataframe tbody tr th {\n",
       "        vertical-align: top;\n",
       "    }\n",
       "\n",
       "    .dataframe thead th {\n",
       "        text-align: right;\n",
       "    }\n",
       "</style>\n",
       "<table border=\"1\" class=\"dataframe\">\n",
       "  <thead>\n",
       "    <tr style=\"text-align: right;\">\n",
       "      <th></th>\n",
       "      <th>tpep_pickup_datetime</th>\n",
       "      <th>tpep_dropoff_datetime</th>\n",
       "      <th>passenger_count</th>\n",
       "      <th>trip_distance</th>\n",
       "      <th>RatecodeID</th>\n",
       "      <th>PULocationID</th>\n",
       "      <th>DOLocationID</th>\n",
       "      <th>payment_type</th>\n",
       "      <th>total_amount</th>\n",
       "    </tr>\n",
       "  </thead>\n",
       "  <tbody>\n",
       "    <tr>\n",
       "      <th>count</th>\n",
       "      <td>2795797</td>\n",
       "      <td>2795797</td>\n",
       "      <td>2.795797e+06</td>\n",
       "      <td>2.795797e+06</td>\n",
       "      <td>2.795797e+06</td>\n",
       "      <td>2.795797e+06</td>\n",
       "      <td>2.795797e+06</td>\n",
       "      <td>2.795797e+06</td>\n",
       "      <td>2.795797e+06</td>\n",
       "    </tr>\n",
       "    <tr>\n",
       "      <th>mean</th>\n",
       "      <td>2024-01-17 01:13:04.570522624</td>\n",
       "      <td>2024-01-17 01:28:21.357515264</td>\n",
       "      <td>1.342754e+00</td>\n",
       "      <td>3.207191e+00</td>\n",
       "      <td>1.075610e+00</td>\n",
       "      <td>1.666517e+02</td>\n",
       "      <td>1.658680e+02</td>\n",
       "      <td>1.221133e+00</td>\n",
       "      <td>2.674902e+01</td>\n",
       "    </tr>\n",
       "    <tr>\n",
       "      <th>min</th>\n",
       "      <td>2009-01-01 00:24:09</td>\n",
       "      <td>2009-01-01 01:13:00</td>\n",
       "      <td>0.000000e+00</td>\n",
       "      <td>0.000000e+00</td>\n",
       "      <td>1.000000e+00</td>\n",
       "      <td>1.000000e+00</td>\n",
       "      <td>1.000000e+00</td>\n",
       "      <td>1.000000e+00</td>\n",
       "      <td>-9.000000e+02</td>\n",
       "    </tr>\n",
       "    <tr>\n",
       "      <th>25%</th>\n",
       "      <td>2024-01-09 15:35:16</td>\n",
       "      <td>2024-01-09 15:51:38</td>\n",
       "      <td>1.000000e+00</td>\n",
       "      <td>1.000000e+00</td>\n",
       "      <td>1.000000e+00</td>\n",
       "      <td>1.320000e+02</td>\n",
       "      <td>1.160000e+02</td>\n",
       "      <td>1.000000e+00</td>\n",
       "      <td>1.512000e+01</td>\n",
       "    </tr>\n",
       "    <tr>\n",
       "      <th>50%</th>\n",
       "      <td>2024-01-17 10:35:04</td>\n",
       "      <td>2024-01-17 10:53:08</td>\n",
       "      <td>1.000000e+00</td>\n",
       "      <td>1.650000e+00</td>\n",
       "      <td>1.000000e+00</td>\n",
       "      <td>1.620000e+02</td>\n",
       "      <td>1.620000e+02</td>\n",
       "      <td>1.000000e+00</td>\n",
       "      <td>1.980000e+01</td>\n",
       "    </tr>\n",
       "    <tr>\n",
       "      <th>75%</th>\n",
       "      <td>2024-01-24 18:45:32</td>\n",
       "      <td>2024-01-24 19:00:21</td>\n",
       "      <td>1.000000e+00</td>\n",
       "      <td>3.030000e+00</td>\n",
       "      <td>1.000000e+00</td>\n",
       "      <td>2.340000e+02</td>\n",
       "      <td>2.340000e+02</td>\n",
       "      <td>1.000000e+00</td>\n",
       "      <td>2.820000e+01</td>\n",
       "    </tr>\n",
       "    <tr>\n",
       "      <th>max</th>\n",
       "      <td>2024-02-01 00:01:15</td>\n",
       "      <td>2024-02-02 13:56:52</td>\n",
       "      <td>9.000000e+00</td>\n",
       "      <td>1.540032e+04</td>\n",
       "      <td>6.000000e+00</td>\n",
       "      <td>2.650000e+02</td>\n",
       "      <td>2.650000e+02</td>\n",
       "      <td>4.000000e+00</td>\n",
       "      <td>2.225300e+03</td>\n",
       "    </tr>\n",
       "    <tr>\n",
       "      <th>std</th>\n",
       "      <td>NaN</td>\n",
       "      <td>NaN</td>\n",
       "      <td>8.539134e-01</td>\n",
       "      <td>1.214368e+01</td>\n",
       "      <td>4.154564e-01</td>\n",
       "      <td>6.293937e+01</td>\n",
       "      <td>6.905407e+01</td>\n",
       "      <td>5.350808e-01</td>\n",
       "      <td>2.323822e+01</td>\n",
       "    </tr>\n",
       "  </tbody>\n",
       "</table>\n",
       "</div>"
      ],
      "text/plain": [
       "                tpep_pickup_datetime          tpep_dropoff_datetime  \\\n",
       "count                        2795797                        2795797   \n",
       "mean   2024-01-17 01:13:04.570522624  2024-01-17 01:28:21.357515264   \n",
       "min              2009-01-01 00:24:09            2009-01-01 01:13:00   \n",
       "25%              2024-01-09 15:35:16            2024-01-09 15:51:38   \n",
       "50%              2024-01-17 10:35:04            2024-01-17 10:53:08   \n",
       "75%              2024-01-24 18:45:32            2024-01-24 19:00:21   \n",
       "max              2024-02-01 00:01:15            2024-02-02 13:56:52   \n",
       "std                              NaN                            NaN   \n",
       "\n",
       "       passenger_count  trip_distance    RatecodeID  PULocationID  \\\n",
       "count     2.795797e+06   2.795797e+06  2.795797e+06  2.795797e+06   \n",
       "mean      1.342754e+00   3.207191e+00  1.075610e+00  1.666517e+02   \n",
       "min       0.000000e+00   0.000000e+00  1.000000e+00  1.000000e+00   \n",
       "25%       1.000000e+00   1.000000e+00  1.000000e+00  1.320000e+02   \n",
       "50%       1.000000e+00   1.650000e+00  1.000000e+00  1.620000e+02   \n",
       "75%       1.000000e+00   3.030000e+00  1.000000e+00  2.340000e+02   \n",
       "max       9.000000e+00   1.540032e+04  6.000000e+00  2.650000e+02   \n",
       "std       8.539134e-01   1.214368e+01  4.154564e-01  6.293937e+01   \n",
       "\n",
       "       DOLocationID  payment_type  total_amount  \n",
       "count  2.795797e+06  2.795797e+06  2.795797e+06  \n",
       "mean   1.658680e+02  1.221133e+00  2.674902e+01  \n",
       "min    1.000000e+00  1.000000e+00 -9.000000e+02  \n",
       "25%    1.160000e+02  1.000000e+00  1.512000e+01  \n",
       "50%    1.620000e+02  1.000000e+00  1.980000e+01  \n",
       "75%    2.340000e+02  1.000000e+00  2.820000e+01  \n",
       "max    2.650000e+02  4.000000e+00  2.225300e+03  \n",
       "std    6.905407e+01  5.350808e-01  2.323822e+01  "
      ]
     },
     "execution_count": 42,
     "metadata": {},
     "output_type": "execute_result"
    }
   ],
   "source": [
    "taxi_data_filtered.describe()"
   ]
  },
  {
   "cell_type": "code",
   "execution_count": 43,
   "id": "2b4208d9",
   "metadata": {},
   "outputs": [],
   "source": [
    "taxi_data_filtered = taxi_data_filtered[taxi_data_filtered['tpep_pickup_datetime'] \\\n",
    "                                        != '2009-01-01 23:30:39']"
   ]
  },
  {
   "cell_type": "code",
   "execution_count": 44,
   "id": "5355121a",
   "metadata": {},
   "outputs": [
    {
     "data": {
      "text/html": [
       "<div>\n",
       "<style scoped>\n",
       "    .dataframe tbody tr th:only-of-type {\n",
       "        vertical-align: middle;\n",
       "    }\n",
       "\n",
       "    .dataframe tbody tr th {\n",
       "        vertical-align: top;\n",
       "    }\n",
       "\n",
       "    .dataframe thead th {\n",
       "        text-align: right;\n",
       "    }\n",
       "</style>\n",
       "<table border=\"1\" class=\"dataframe\">\n",
       "  <thead>\n",
       "    <tr style=\"text-align: right;\">\n",
       "      <th></th>\n",
       "      <th>tpep_pickup_datetime</th>\n",
       "      <th>tpep_dropoff_datetime</th>\n",
       "      <th>passenger_count</th>\n",
       "      <th>trip_distance</th>\n",
       "      <th>RatecodeID</th>\n",
       "      <th>PULocationID</th>\n",
       "      <th>DOLocationID</th>\n",
       "      <th>payment_type</th>\n",
       "      <th>total_amount</th>\n",
       "    </tr>\n",
       "  </thead>\n",
       "  <tbody>\n",
       "    <tr>\n",
       "      <th>count</th>\n",
       "      <td>2795796</td>\n",
       "      <td>2795796</td>\n",
       "      <td>2.795796e+06</td>\n",
       "      <td>2.795796e+06</td>\n",
       "      <td>2.795796e+06</td>\n",
       "      <td>2.795796e+06</td>\n",
       "      <td>2.795796e+06</td>\n",
       "      <td>2.795796e+06</td>\n",
       "      <td>2.795796e+06</td>\n",
       "    </tr>\n",
       "    <tr>\n",
       "      <th>mean</th>\n",
       "      <td>2024-01-17 01:15:54.325878528</td>\n",
       "      <td>2024-01-17 01:31:11.112533760</td>\n",
       "      <td>1.342754e+00</td>\n",
       "      <td>3.207189e+00</td>\n",
       "      <td>1.075610e+00</td>\n",
       "      <td>1.666516e+02</td>\n",
       "      <td>1.658680e+02</td>\n",
       "      <td>1.221132e+00</td>\n",
       "      <td>2.674902e+01</td>\n",
       "    </tr>\n",
       "    <tr>\n",
       "      <th>min</th>\n",
       "      <td>2009-01-01 00:24:09</td>\n",
       "      <td>2009-01-01 01:13:00</td>\n",
       "      <td>0.000000e+00</td>\n",
       "      <td>0.000000e+00</td>\n",
       "      <td>1.000000e+00</td>\n",
       "      <td>1.000000e+00</td>\n",
       "      <td>1.000000e+00</td>\n",
       "      <td>1.000000e+00</td>\n",
       "      <td>-9.000000e+02</td>\n",
       "    </tr>\n",
       "    <tr>\n",
       "      <th>25%</th>\n",
       "      <td>2024-01-09 15:35:17.500000</td>\n",
       "      <td>2024-01-09 15:51:38</td>\n",
       "      <td>1.000000e+00</td>\n",
       "      <td>1.000000e+00</td>\n",
       "      <td>1.000000e+00</td>\n",
       "      <td>1.320000e+02</td>\n",
       "      <td>1.160000e+02</td>\n",
       "      <td>1.000000e+00</td>\n",
       "      <td>1.512000e+01</td>\n",
       "    </tr>\n",
       "    <tr>\n",
       "      <th>50%</th>\n",
       "      <td>2024-01-17 10:35:04</td>\n",
       "      <td>2024-01-17 10:53:08</td>\n",
       "      <td>1.000000e+00</td>\n",
       "      <td>1.650000e+00</td>\n",
       "      <td>1.000000e+00</td>\n",
       "      <td>1.620000e+02</td>\n",
       "      <td>1.620000e+02</td>\n",
       "      <td>1.000000e+00</td>\n",
       "      <td>1.980000e+01</td>\n",
       "    </tr>\n",
       "    <tr>\n",
       "      <th>75%</th>\n",
       "      <td>2024-01-24 18:45:32</td>\n",
       "      <td>2024-01-24 19:00:21.249999872</td>\n",
       "      <td>1.000000e+00</td>\n",
       "      <td>3.030000e+00</td>\n",
       "      <td>1.000000e+00</td>\n",
       "      <td>2.340000e+02</td>\n",
       "      <td>2.340000e+02</td>\n",
       "      <td>1.000000e+00</td>\n",
       "      <td>2.820000e+01</td>\n",
       "    </tr>\n",
       "    <tr>\n",
       "      <th>max</th>\n",
       "      <td>2024-02-01 00:01:15</td>\n",
       "      <td>2024-02-02 13:56:52</td>\n",
       "      <td>9.000000e+00</td>\n",
       "      <td>1.540032e+04</td>\n",
       "      <td>6.000000e+00</td>\n",
       "      <td>2.650000e+02</td>\n",
       "      <td>2.650000e+02</td>\n",
       "      <td>4.000000e+00</td>\n",
       "      <td>2.225300e+03</td>\n",
       "    </tr>\n",
       "    <tr>\n",
       "      <th>std</th>\n",
       "      <td>NaN</td>\n",
       "      <td>NaN</td>\n",
       "      <td>8.539135e-01</td>\n",
       "      <td>1.214368e+01</td>\n",
       "      <td>4.154565e-01</td>\n",
       "      <td>6.293936e+01</td>\n",
       "      <td>6.905406e+01</td>\n",
       "      <td>5.350807e-01</td>\n",
       "      <td>2.323822e+01</td>\n",
       "    </tr>\n",
       "  </tbody>\n",
       "</table>\n",
       "</div>"
      ],
      "text/plain": [
       "                tpep_pickup_datetime          tpep_dropoff_datetime  \\\n",
       "count                        2795796                        2795796   \n",
       "mean   2024-01-17 01:15:54.325878528  2024-01-17 01:31:11.112533760   \n",
       "min              2009-01-01 00:24:09            2009-01-01 01:13:00   \n",
       "25%       2024-01-09 15:35:17.500000            2024-01-09 15:51:38   \n",
       "50%              2024-01-17 10:35:04            2024-01-17 10:53:08   \n",
       "75%              2024-01-24 18:45:32  2024-01-24 19:00:21.249999872   \n",
       "max              2024-02-01 00:01:15            2024-02-02 13:56:52   \n",
       "std                              NaN                            NaN   \n",
       "\n",
       "       passenger_count  trip_distance    RatecodeID  PULocationID  \\\n",
       "count     2.795796e+06   2.795796e+06  2.795796e+06  2.795796e+06   \n",
       "mean      1.342754e+00   3.207189e+00  1.075610e+00  1.666516e+02   \n",
       "min       0.000000e+00   0.000000e+00  1.000000e+00  1.000000e+00   \n",
       "25%       1.000000e+00   1.000000e+00  1.000000e+00  1.320000e+02   \n",
       "50%       1.000000e+00   1.650000e+00  1.000000e+00  1.620000e+02   \n",
       "75%       1.000000e+00   3.030000e+00  1.000000e+00  2.340000e+02   \n",
       "max       9.000000e+00   1.540032e+04  6.000000e+00  2.650000e+02   \n",
       "std       8.539135e-01   1.214368e+01  4.154565e-01  6.293936e+01   \n",
       "\n",
       "       DOLocationID  payment_type  total_amount  \n",
       "count  2.795796e+06  2.795796e+06  2.795796e+06  \n",
       "mean   1.658680e+02  1.221132e+00  2.674902e+01  \n",
       "min    1.000000e+00  1.000000e+00 -9.000000e+02  \n",
       "25%    1.160000e+02  1.000000e+00  1.512000e+01  \n",
       "50%    1.620000e+02  1.000000e+00  1.980000e+01  \n",
       "75%    2.340000e+02  1.000000e+00  2.820000e+01  \n",
       "max    2.650000e+02  4.000000e+00  2.225300e+03  \n",
       "std    6.905406e+01  5.350807e-01  2.323822e+01  "
      ]
     },
     "execution_count": 44,
     "metadata": {},
     "output_type": "execute_result"
    }
   ],
   "source": [
    "taxi_data_filtered.describe()"
   ]
  },
  {
   "cell_type": "code",
   "execution_count": 45,
   "id": "ac33a33f",
   "metadata": {},
   "outputs": [
    {
     "data": {
      "text/html": [
       "<div>\n",
       "<style scoped>\n",
       "    .dataframe tbody tr th:only-of-type {\n",
       "        vertical-align: middle;\n",
       "    }\n",
       "\n",
       "    .dataframe tbody tr th {\n",
       "        vertical-align: top;\n",
       "    }\n",
       "\n",
       "    .dataframe thead th {\n",
       "        text-align: right;\n",
       "    }\n",
       "</style>\n",
       "<table border=\"1\" class=\"dataframe\">\n",
       "  <thead>\n",
       "    <tr style=\"text-align: right;\">\n",
       "      <th></th>\n",
       "      <th>tpep_pickup_datetime</th>\n",
       "      <th>tpep_dropoff_datetime</th>\n",
       "      <th>passenger_count</th>\n",
       "      <th>trip_distance</th>\n",
       "      <th>RatecodeID</th>\n",
       "      <th>PULocationID</th>\n",
       "      <th>DOLocationID</th>\n",
       "      <th>payment_type</th>\n",
       "      <th>total_amount</th>\n",
       "      <th>year</th>\n",
       "    </tr>\n",
       "  </thead>\n",
       "  <tbody>\n",
       "    <tr>\n",
       "      <th>256</th>\n",
       "      <td>2023-12-31 23:56:46</td>\n",
       "      <td>2024-01-01 00:12:06</td>\n",
       "      <td>2.0</td>\n",
       "      <td>2.38</td>\n",
       "      <td>1.0</td>\n",
       "      <td>236</td>\n",
       "      <td>142</td>\n",
       "      <td>1</td>\n",
       "      <td>21.60</td>\n",
       "      <td>2023</td>\n",
       "    </tr>\n",
       "    <tr>\n",
       "      <th>369</th>\n",
       "      <td>2023-12-31 23:39:17</td>\n",
       "      <td>2023-12-31 23:42:00</td>\n",
       "      <td>2.0</td>\n",
       "      <td>0.47</td>\n",
       "      <td>1.0</td>\n",
       "      <td>90</td>\n",
       "      <td>68</td>\n",
       "      <td>1</td>\n",
       "      <td>10.10</td>\n",
       "      <td>2023</td>\n",
       "    </tr>\n",
       "    <tr>\n",
       "      <th>753</th>\n",
       "      <td>2023-12-31 23:41:02</td>\n",
       "      <td>2023-12-31 23:48:03</td>\n",
       "      <td>1.0</td>\n",
       "      <td>0.40</td>\n",
       "      <td>1.0</td>\n",
       "      <td>246</td>\n",
       "      <td>246</td>\n",
       "      <td>2</td>\n",
       "      <td>12.20</td>\n",
       "      <td>2023</td>\n",
       "    </tr>\n",
       "    <tr>\n",
       "      <th>2210</th>\n",
       "      <td>2023-12-31 23:57:17</td>\n",
       "      <td>2024-01-01 00:01:50</td>\n",
       "      <td>1.0</td>\n",
       "      <td>0.53</td>\n",
       "      <td>1.0</td>\n",
       "      <td>144</td>\n",
       "      <td>211</td>\n",
       "      <td>1</td>\n",
       "      <td>12.96</td>\n",
       "      <td>2023</td>\n",
       "    </tr>\n",
       "    <tr>\n",
       "      <th>2615</th>\n",
       "      <td>2023-12-31 23:56:45</td>\n",
       "      <td>2024-01-01 00:00:28</td>\n",
       "      <td>1.0</td>\n",
       "      <td>0.97</td>\n",
       "      <td>1.0</td>\n",
       "      <td>163</td>\n",
       "      <td>237</td>\n",
       "      <td>1</td>\n",
       "      <td>13.50</td>\n",
       "      <td>2023</td>\n",
       "    </tr>\n",
       "    <tr>\n",
       "      <th>2985</th>\n",
       "      <td>2023-12-31 23:49:12</td>\n",
       "      <td>2024-01-01 00:04:32</td>\n",
       "      <td>1.0</td>\n",
       "      <td>3.14</td>\n",
       "      <td>1.0</td>\n",
       "      <td>234</td>\n",
       "      <td>237</td>\n",
       "      <td>1</td>\n",
       "      <td>28.60</td>\n",
       "      <td>2023</td>\n",
       "    </tr>\n",
       "    <tr>\n",
       "      <th>3176</th>\n",
       "      <td>2023-12-31 23:47:28</td>\n",
       "      <td>2023-12-31 23:57:07</td>\n",
       "      <td>2.0</td>\n",
       "      <td>1.44</td>\n",
       "      <td>1.0</td>\n",
       "      <td>68</td>\n",
       "      <td>137</td>\n",
       "      <td>1</td>\n",
       "      <td>18.84</td>\n",
       "      <td>2023</td>\n",
       "    </tr>\n",
       "    <tr>\n",
       "      <th>4137</th>\n",
       "      <td>2023-12-31 23:58:35</td>\n",
       "      <td>2024-01-01 00:13:06</td>\n",
       "      <td>6.0</td>\n",
       "      <td>8.39</td>\n",
       "      <td>1.0</td>\n",
       "      <td>138</td>\n",
       "      <td>217</td>\n",
       "      <td>2</td>\n",
       "      <td>42.35</td>\n",
       "      <td>2023</td>\n",
       "    </tr>\n",
       "    <tr>\n",
       "      <th>4142</th>\n",
       "      <td>2023-12-31 23:58:37</td>\n",
       "      <td>2024-01-01 00:08:37</td>\n",
       "      <td>2.0</td>\n",
       "      <td>0.59</td>\n",
       "      <td>1.0</td>\n",
       "      <td>161</td>\n",
       "      <td>170</td>\n",
       "      <td>1</td>\n",
       "      <td>18.75</td>\n",
       "      <td>2023</td>\n",
       "    </tr>\n",
       "    <tr>\n",
       "      <th>8628</th>\n",
       "      <td>2023-12-31 23:54:27</td>\n",
       "      <td>2024-01-01 00:13:12</td>\n",
       "      <td>1.0</td>\n",
       "      <td>7.70</td>\n",
       "      <td>1.0</td>\n",
       "      <td>229</td>\n",
       "      <td>244</td>\n",
       "      <td>1</td>\n",
       "      <td>45.72</td>\n",
       "      <td>2023</td>\n",
       "    </tr>\n",
       "    <tr>\n",
       "      <th>10915</th>\n",
       "      <td>2009-01-01 23:58:40</td>\n",
       "      <td>2009-01-02 00:01:40</td>\n",
       "      <td>1.0</td>\n",
       "      <td>0.46</td>\n",
       "      <td>1.0</td>\n",
       "      <td>137</td>\n",
       "      <td>264</td>\n",
       "      <td>2</td>\n",
       "      <td>9.40</td>\n",
       "      <td>2009</td>\n",
       "    </tr>\n",
       "    <tr>\n",
       "      <th>2558056</th>\n",
       "      <td>2009-01-01 00:24:09</td>\n",
       "      <td>2009-01-01 01:13:00</td>\n",
       "      <td>2.0</td>\n",
       "      <td>10.88</td>\n",
       "      <td>1.0</td>\n",
       "      <td>138</td>\n",
       "      <td>264</td>\n",
       "      <td>2</td>\n",
       "      <td>68.29</td>\n",
       "      <td>2009</td>\n",
       "    </tr>\n",
       "  </tbody>\n",
       "</table>\n",
       "</div>"
      ],
      "text/plain": [
       "        tpep_pickup_datetime tpep_dropoff_datetime  passenger_count  \\\n",
       "256      2023-12-31 23:56:46   2024-01-01 00:12:06              2.0   \n",
       "369      2023-12-31 23:39:17   2023-12-31 23:42:00              2.0   \n",
       "753      2023-12-31 23:41:02   2023-12-31 23:48:03              1.0   \n",
       "2210     2023-12-31 23:57:17   2024-01-01 00:01:50              1.0   \n",
       "2615     2023-12-31 23:56:45   2024-01-01 00:00:28              1.0   \n",
       "2985     2023-12-31 23:49:12   2024-01-01 00:04:32              1.0   \n",
       "3176     2023-12-31 23:47:28   2023-12-31 23:57:07              2.0   \n",
       "4137     2023-12-31 23:58:35   2024-01-01 00:13:06              6.0   \n",
       "4142     2023-12-31 23:58:37   2024-01-01 00:08:37              2.0   \n",
       "8628     2023-12-31 23:54:27   2024-01-01 00:13:12              1.0   \n",
       "10915    2009-01-01 23:58:40   2009-01-02 00:01:40              1.0   \n",
       "2558056  2009-01-01 00:24:09   2009-01-01 01:13:00              2.0   \n",
       "\n",
       "         trip_distance  RatecodeID  PULocationID  DOLocationID  payment_type  \\\n",
       "256               2.38         1.0           236           142             1   \n",
       "369               0.47         1.0            90            68             1   \n",
       "753               0.40         1.0           246           246             2   \n",
       "2210              0.53         1.0           144           211             1   \n",
       "2615              0.97         1.0           163           237             1   \n",
       "2985              3.14         1.0           234           237             1   \n",
       "3176              1.44         1.0            68           137             1   \n",
       "4137              8.39         1.0           138           217             2   \n",
       "4142              0.59         1.0           161           170             1   \n",
       "8628              7.70         1.0           229           244             1   \n",
       "10915             0.46         1.0           137           264             2   \n",
       "2558056          10.88         1.0           138           264             2   \n",
       "\n",
       "         total_amount  year  \n",
       "256             21.60  2023  \n",
       "369             10.10  2023  \n",
       "753             12.20  2023  \n",
       "2210            12.96  2023  \n",
       "2615            13.50  2023  \n",
       "2985            28.60  2023  \n",
       "3176            18.84  2023  \n",
       "4137            42.35  2023  \n",
       "4142            18.75  2023  \n",
       "8628            45.72  2023  \n",
       "10915            9.40  2009  \n",
       "2558056         68.29  2009  "
      ]
     },
     "execution_count": 45,
     "metadata": {},
     "output_type": "execute_result"
    }
   ],
   "source": [
    "# Convert 'datetime_column' to datetime format\n",
    "taxi_data_filtered['tpep_pickup_datetime'] = pd.to_datetime(taxi_data_filtered['tpep_pickup_datetime'])\n",
    "\n",
    "# Extract the year from the datetime column\n",
    "taxi_data_filtered['year'] = taxi_data_filtered['tpep_pickup_datetime'].dt.year\n",
    "\n",
    "# Filter out rows where the year is not 2024\n",
    "taxi_data_filtered_not_2024 = taxi_data_filtered[taxi_data_filtered['year'] != 2024]\n",
    "taxi_data_filtered_not_2024"
   ]
  },
  {
   "cell_type": "code",
   "execution_count": 46,
   "id": "d09ec4df",
   "metadata": {},
   "outputs": [],
   "source": [
    "taxi_data_filtered = taxi_data_filtered[taxi_data_filtered['tpep_pickup_datetime'] \\\n",
    "                                        != '2009-01-01 00:24:09']\n"
   ]
  },
  {
   "cell_type": "code",
   "execution_count": 47,
   "id": "16d7af0a",
   "metadata": {},
   "outputs": [
    {
     "data": {
      "text/html": [
       "<div>\n",
       "<style scoped>\n",
       "    .dataframe tbody tr th:only-of-type {\n",
       "        vertical-align: middle;\n",
       "    }\n",
       "\n",
       "    .dataframe tbody tr th {\n",
       "        vertical-align: top;\n",
       "    }\n",
       "\n",
       "    .dataframe thead th {\n",
       "        text-align: right;\n",
       "    }\n",
       "</style>\n",
       "<table border=\"1\" class=\"dataframe\">\n",
       "  <thead>\n",
       "    <tr style=\"text-align: right;\">\n",
       "      <th></th>\n",
       "      <th>tpep_pickup_datetime</th>\n",
       "      <th>tpep_dropoff_datetime</th>\n",
       "      <th>passenger_count</th>\n",
       "      <th>trip_distance</th>\n",
       "      <th>RatecodeID</th>\n",
       "      <th>PULocationID</th>\n",
       "      <th>DOLocationID</th>\n",
       "      <th>payment_type</th>\n",
       "      <th>total_amount</th>\n",
       "      <th>year</th>\n",
       "    </tr>\n",
       "  </thead>\n",
       "  <tbody>\n",
       "    <tr>\n",
       "      <th>count</th>\n",
       "      <td>2795795</td>\n",
       "      <td>2795795</td>\n",
       "      <td>2.795795e+06</td>\n",
       "      <td>2.795795e+06</td>\n",
       "      <td>2.795795e+06</td>\n",
       "      <td>2.795795e+06</td>\n",
       "      <td>2.795795e+06</td>\n",
       "      <td>2.795795e+06</td>\n",
       "      <td>2.795795e+06</td>\n",
       "      <td>2.795795e+06</td>\n",
       "    </tr>\n",
       "    <tr>\n",
       "      <th>mean</th>\n",
       "      <td>2024-01-17 01:18:44.111112448</td>\n",
       "      <td>2024-01-17 01:34:00.897046016</td>\n",
       "      <td>1.342754e+00</td>\n",
       "      <td>3.207186e+00</td>\n",
       "      <td>1.075610e+00</td>\n",
       "      <td>1.666516e+02</td>\n",
       "      <td>1.658680e+02</td>\n",
       "      <td>1.221132e+00</td>\n",
       "      <td>2.674900e+01</td>\n",
       "      <td>2.024000e+03</td>\n",
       "    </tr>\n",
       "    <tr>\n",
       "      <th>min</th>\n",
       "      <td>2009-01-01 23:58:40</td>\n",
       "      <td>2009-01-02 00:01:40</td>\n",
       "      <td>0.000000e+00</td>\n",
       "      <td>0.000000e+00</td>\n",
       "      <td>1.000000e+00</td>\n",
       "      <td>1.000000e+00</td>\n",
       "      <td>1.000000e+00</td>\n",
       "      <td>1.000000e+00</td>\n",
       "      <td>-9.000000e+02</td>\n",
       "      <td>2.009000e+03</td>\n",
       "    </tr>\n",
       "    <tr>\n",
       "      <th>25%</th>\n",
       "      <td>2024-01-09 15:35:18</td>\n",
       "      <td>2024-01-09 15:51:38</td>\n",
       "      <td>1.000000e+00</td>\n",
       "      <td>1.000000e+00</td>\n",
       "      <td>1.000000e+00</td>\n",
       "      <td>1.320000e+02</td>\n",
       "      <td>1.160000e+02</td>\n",
       "      <td>1.000000e+00</td>\n",
       "      <td>1.512000e+01</td>\n",
       "      <td>2.024000e+03</td>\n",
       "    </tr>\n",
       "    <tr>\n",
       "      <th>50%</th>\n",
       "      <td>2024-01-17 10:35:04</td>\n",
       "      <td>2024-01-17 10:53:08</td>\n",
       "      <td>1.000000e+00</td>\n",
       "      <td>1.650000e+00</td>\n",
       "      <td>1.000000e+00</td>\n",
       "      <td>1.620000e+02</td>\n",
       "      <td>1.620000e+02</td>\n",
       "      <td>1.000000e+00</td>\n",
       "      <td>1.980000e+01</td>\n",
       "      <td>2.024000e+03</td>\n",
       "    </tr>\n",
       "    <tr>\n",
       "      <th>75%</th>\n",
       "      <td>2024-01-24 18:45:32</td>\n",
       "      <td>2024-01-24 19:00:21.500000</td>\n",
       "      <td>1.000000e+00</td>\n",
       "      <td>3.030000e+00</td>\n",
       "      <td>1.000000e+00</td>\n",
       "      <td>2.340000e+02</td>\n",
       "      <td>2.340000e+02</td>\n",
       "      <td>1.000000e+00</td>\n",
       "      <td>2.820000e+01</td>\n",
       "      <td>2.024000e+03</td>\n",
       "    </tr>\n",
       "    <tr>\n",
       "      <th>max</th>\n",
       "      <td>2024-02-01 00:01:15</td>\n",
       "      <td>2024-02-02 13:56:52</td>\n",
       "      <td>9.000000e+00</td>\n",
       "      <td>1.540032e+04</td>\n",
       "      <td>6.000000e+00</td>\n",
       "      <td>2.650000e+02</td>\n",
       "      <td>2.650000e+02</td>\n",
       "      <td>4.000000e+00</td>\n",
       "      <td>2.225300e+03</td>\n",
       "      <td>2.024000e+03</td>\n",
       "    </tr>\n",
       "    <tr>\n",
       "      <th>std</th>\n",
       "      <td>NaN</td>\n",
       "      <td>NaN</td>\n",
       "      <td>8.539136e-01</td>\n",
       "      <td>1.214368e+01</td>\n",
       "      <td>4.154566e-01</td>\n",
       "      <td>6.293937e+01</td>\n",
       "      <td>6.905405e+01</td>\n",
       "      <td>5.350806e-01</td>\n",
       "      <td>2.323822e+01</td>\n",
       "      <td>9.168138e-03</td>\n",
       "    </tr>\n",
       "  </tbody>\n",
       "</table>\n",
       "</div>"
      ],
      "text/plain": [
       "                tpep_pickup_datetime          tpep_dropoff_datetime  \\\n",
       "count                        2795795                        2795795   \n",
       "mean   2024-01-17 01:18:44.111112448  2024-01-17 01:34:00.897046016   \n",
       "min              2009-01-01 23:58:40            2009-01-02 00:01:40   \n",
       "25%              2024-01-09 15:35:18            2024-01-09 15:51:38   \n",
       "50%              2024-01-17 10:35:04            2024-01-17 10:53:08   \n",
       "75%              2024-01-24 18:45:32     2024-01-24 19:00:21.500000   \n",
       "max              2024-02-01 00:01:15            2024-02-02 13:56:52   \n",
       "std                              NaN                            NaN   \n",
       "\n",
       "       passenger_count  trip_distance    RatecodeID  PULocationID  \\\n",
       "count     2.795795e+06   2.795795e+06  2.795795e+06  2.795795e+06   \n",
       "mean      1.342754e+00   3.207186e+00  1.075610e+00  1.666516e+02   \n",
       "min       0.000000e+00   0.000000e+00  1.000000e+00  1.000000e+00   \n",
       "25%       1.000000e+00   1.000000e+00  1.000000e+00  1.320000e+02   \n",
       "50%       1.000000e+00   1.650000e+00  1.000000e+00  1.620000e+02   \n",
       "75%       1.000000e+00   3.030000e+00  1.000000e+00  2.340000e+02   \n",
       "max       9.000000e+00   1.540032e+04  6.000000e+00  2.650000e+02   \n",
       "std       8.539136e-01   1.214368e+01  4.154566e-01  6.293937e+01   \n",
       "\n",
       "       DOLocationID  payment_type  total_amount          year  \n",
       "count  2.795795e+06  2.795795e+06  2.795795e+06  2.795795e+06  \n",
       "mean   1.658680e+02  1.221132e+00  2.674900e+01  2.024000e+03  \n",
       "min    1.000000e+00  1.000000e+00 -9.000000e+02  2.009000e+03  \n",
       "25%    1.160000e+02  1.000000e+00  1.512000e+01  2.024000e+03  \n",
       "50%    1.620000e+02  1.000000e+00  1.980000e+01  2.024000e+03  \n",
       "75%    2.340000e+02  1.000000e+00  2.820000e+01  2.024000e+03  \n",
       "max    2.650000e+02  4.000000e+00  2.225300e+03  2.024000e+03  \n",
       "std    6.905405e+01  5.350806e-01  2.323822e+01  9.168138e-03  "
      ]
     },
     "execution_count": 47,
     "metadata": {},
     "output_type": "execute_result"
    }
   ],
   "source": [
    "taxi_data_filtered.describe()"
   ]
  },
  {
   "cell_type": "code",
   "execution_count": 48,
   "id": "58fe95f6",
   "metadata": {},
   "outputs": [
    {
     "data": {
      "image/png": "[encoded data removed]",
      "text/plain": [
       "<Figure size 2000x1000 with 1 Axes>"
      ]
     },
     "metadata": {},
     "output_type": "display_data"
    }
   ],
   "source": [
    "taxi_data_filtered['tpep_pickup_datetime'].hist(figsize=(20, 10), bins=60)\n",
    "plt.show()"
   ]
  },
  {
   "cell_type": "code",
   "execution_count": 49,
   "id": "3ed9ac2f",
   "metadata": {},
   "outputs": [
    {
     "data": {
      "text/plain": [
       "Timestamp('2009-01-01 23:58:40')"
      ]
     },
     "execution_count": 49,
     "metadata": {},
     "output_type": "execute_result"
    }
   ],
   "source": [
    "np.min(taxi_data_filtered['tpep_pickup_datetime'])"
   ]
  },
  {
   "cell_type": "code",
   "execution_count": 50,
   "id": "7ef36669",
   "metadata": {},
   "outputs": [
    {
     "data": {
      "text/plain": [
       "passenger_count\n",
       "1.0    2160151\n",
       "2.0     405063\n",
       "3.0      91258\n",
       "4.0      51973\n",
       "5.0      33506\n",
       "0.0      31431\n",
       "6.0      22353\n",
       "8.0         51\n",
       "7.0          8\n",
       "9.0          1\n",
       "Name: count, dtype: int64"
      ]
     },
     "execution_count": 50,
     "metadata": {},
     "output_type": "execute_result"
    }
   ],
   "source": [
    "taxi_data_filtered['passenger_count'].value_counts()"
   ]
  },
  {
   "cell_type": "code",
   "execution_count": 51,
   "id": "d7e4568e",
   "metadata": {
    "scrolled": true
   },
   "outputs": [
    {
     "data": {
      "image/png": "[encoded data removed]",
      "text/plain": [
       "<Figure size 2000x800 with 1 Axes>"
      ]
     },
     "metadata": {},
     "output_type": "display_data"
    }
   ],
   "source": [
    "taxi_data_filtered['passenger_count'].hist(figsize=(20, 8), bins=60)\n",
    "plt.show()"
   ]
  },
  {
   "cell_type": "code",
   "execution_count": 52,
   "id": "67c62d52",
   "metadata": {},
   "outputs": [
    {
     "data": {
      "text/html": [
       "<div>\n",
       "<style scoped>\n",
       "    .dataframe tbody tr th:only-of-type {\n",
       "        vertical-align: middle;\n",
       "    }\n",
       "\n",
       "    .dataframe tbody tr th {\n",
       "        vertical-align: top;\n",
       "    }\n",
       "\n",
       "    .dataframe thead th {\n",
       "        text-align: right;\n",
       "    }\n",
       "</style>\n",
       "<table border=\"1\" class=\"dataframe\">\n",
       "  <thead>\n",
       "    <tr style=\"text-align: right;\">\n",
       "      <th></th>\n",
       "      <th>tpep_pickup_datetime</th>\n",
       "      <th>tpep_dropoff_datetime</th>\n",
       "      <th>passenger_count</th>\n",
       "      <th>trip_distance</th>\n",
       "      <th>RatecodeID</th>\n",
       "      <th>PULocationID</th>\n",
       "      <th>DOLocationID</th>\n",
       "      <th>payment_type</th>\n",
       "      <th>total_amount</th>\n",
       "      <th>year</th>\n",
       "    </tr>\n",
       "  </thead>\n",
       "  <tbody>\n",
       "    <tr>\n",
       "      <th>0</th>\n",
       "      <td>2024-01-01 00:57:55</td>\n",
       "      <td>2024-01-01 01:17:43</td>\n",
       "      <td>1.0</td>\n",
       "      <td>1.72</td>\n",
       "      <td>1.0</td>\n",
       "      <td>186</td>\n",
       "      <td>79</td>\n",
       "      <td>2</td>\n",
       "      <td>22.70</td>\n",
       "      <td>2024</td>\n",
       "    </tr>\n",
       "    <tr>\n",
       "      <th>1</th>\n",
       "      <td>2024-01-01 00:03:00</td>\n",
       "      <td>2024-01-01 00:09:36</td>\n",
       "      <td>1.0</td>\n",
       "      <td>1.80</td>\n",
       "      <td>1.0</td>\n",
       "      <td>140</td>\n",
       "      <td>236</td>\n",
       "      <td>1</td>\n",
       "      <td>18.75</td>\n",
       "      <td>2024</td>\n",
       "    </tr>\n",
       "    <tr>\n",
       "      <th>2</th>\n",
       "      <td>2024-01-01 00:17:06</td>\n",
       "      <td>2024-01-01 00:35:01</td>\n",
       "      <td>1.0</td>\n",
       "      <td>4.70</td>\n",
       "      <td>1.0</td>\n",
       "      <td>236</td>\n",
       "      <td>79</td>\n",
       "      <td>1</td>\n",
       "      <td>31.30</td>\n",
       "      <td>2024</td>\n",
       "    </tr>\n",
       "    <tr>\n",
       "      <th>3</th>\n",
       "      <td>2024-01-01 00:36:38</td>\n",
       "      <td>2024-01-01 00:44:56</td>\n",
       "      <td>1.0</td>\n",
       "      <td>1.40</td>\n",
       "      <td>1.0</td>\n",
       "      <td>79</td>\n",
       "      <td>211</td>\n",
       "      <td>1</td>\n",
       "      <td>17.00</td>\n",
       "      <td>2024</td>\n",
       "    </tr>\n",
       "    <tr>\n",
       "      <th>4</th>\n",
       "      <td>2024-01-01 00:46:51</td>\n",
       "      <td>2024-01-01 00:52:57</td>\n",
       "      <td>1.0</td>\n",
       "      <td>0.80</td>\n",
       "      <td>1.0</td>\n",
       "      <td>211</td>\n",
       "      <td>148</td>\n",
       "      <td>1</td>\n",
       "      <td>16.10</td>\n",
       "      <td>2024</td>\n",
       "    </tr>\n",
       "  </tbody>\n",
       "</table>\n",
       "</div>"
      ],
      "text/plain": [
       "  tpep_pickup_datetime tpep_dropoff_datetime  passenger_count  trip_distance  \\\n",
       "0  2024-01-01 00:57:55   2024-01-01 01:17:43              1.0           1.72   \n",
       "1  2024-01-01 00:03:00   2024-01-01 00:09:36              1.0           1.80   \n",
       "2  2024-01-01 00:17:06   2024-01-01 00:35:01              1.0           4.70   \n",
       "3  2024-01-01 00:36:38   2024-01-01 00:44:56              1.0           1.40   \n",
       "4  2024-01-01 00:46:51   2024-01-01 00:52:57              1.0           0.80   \n",
       "\n",
       "   RatecodeID  PULocationID  DOLocationID  payment_type  total_amount  year  \n",
       "0         1.0           186            79             2         22.70  2024  \n",
       "1         1.0           140           236             1         18.75  2024  \n",
       "2         1.0           236            79             1         31.30  2024  \n",
       "3         1.0            79           211             1         17.00  2024  \n",
       "4         1.0           211           148             1         16.10  2024  "
      ]
     },
     "execution_count": 52,
     "metadata": {},
     "output_type": "execute_result"
    }
   ],
   "source": [
    "mask = ~taxi_data_filtered['passenger_count'].isin([5.0, 6.0, 7.0, 8.0, 9.0])\n",
    "\n",
    "taxi_data_filtered = taxi_data_filtered[mask]\n",
    "taxi_data_filtered.head()"
   ]
  },
  {
   "cell_type": "code",
   "execution_count": 53,
   "id": "dfabac71",
   "metadata": {},
   "outputs": [
    {
     "data": {
      "image/png": "[encoded data removed]",
      "text/plain": [
       "<Figure size 2000x1000 with 1 Axes>"
      ]
     },
     "metadata": {},
     "output_type": "display_data"
    }
   ],
   "source": [
    "taxi_data_filtered['passenger_count'].hist(figsize=(20, 10), bins=60)\n",
    "plt.show()"
   ]
  },
  {
   "cell_type": "code",
   "execution_count": 54,
   "id": "f32269b8",
   "metadata": {},
   "outputs": [
    {
     "data": {
      "text/plain": [
       "Index(['tpep_pickup_datetime', 'tpep_dropoff_datetime', 'passenger_count',\n",
       "       'trip_distance', 'RatecodeID', 'PULocationID', 'DOLocationID',\n",
       "       'payment_type', 'total_amount', 'year'],\n",
       "      dtype='object')"
      ]
     },
     "execution_count": 54,
     "metadata": {},
     "output_type": "execute_result"
    }
   ],
   "source": [
    "taxi_data_filtered.columns"
   ]
  },
  {
   "cell_type": "code",
   "execution_count": 55,
   "id": "eaea51c5",
   "metadata": {},
   "outputs": [],
   "source": [
    "taxi_data_filtered.drop(columns=['year'], inplace=True)"
   ]
  },
  {
   "cell_type": "code",
   "execution_count": 56,
   "id": "6ff85f3b",
   "metadata": {},
   "outputs": [
    {
     "data": {
      "text/plain": [
       "Index(['tpep_pickup_datetime', 'tpep_dropoff_datetime', 'passenger_count',\n",
       "       'trip_distance', 'RatecodeID', 'PULocationID', 'DOLocationID',\n",
       "       'payment_type', 'total_amount'],\n",
       "      dtype='object')"
      ]
     },
     "execution_count": 56,
     "metadata": {},
     "output_type": "execute_result"
    }
   ],
   "source": [
    "taxi_data_filtered.columns"
   ]
  },
  {
   "cell_type": "code",
   "execution_count": 57,
   "id": "ab071cb3",
   "metadata": {},
   "outputs": [
    {
     "data": {
      "image/png": "[encoded data removed]",
      "text/plain": [
       "<Figure size 2000x1000 with 1 Axes>"
      ]
     },
     "metadata": {},
     "output_type": "display_data"
    }
   ],
   "source": [
    "taxi_data_filtered['trip_distance'].hist(figsize=(20, 10), bins=60)\n",
    "plt.show()"
   ]
  },
  {
   "cell_type": "code",
   "execution_count": 58,
   "id": "a0b9745f",
   "metadata": {},
   "outputs": [
    {
     "data": {
      "text/html": [
       "<div>\n",
       "<style scoped>\n",
       "    .dataframe tbody tr th:only-of-type {\n",
       "        vertical-align: middle;\n",
       "    }\n",
       "\n",
       "    .dataframe tbody tr th {\n",
       "        vertical-align: top;\n",
       "    }\n",
       "\n",
       "    .dataframe thead th {\n",
       "        text-align: right;\n",
       "    }\n",
       "</style>\n",
       "<table border=\"1\" class=\"dataframe\">\n",
       "  <thead>\n",
       "    <tr style=\"text-align: right;\">\n",
       "      <th></th>\n",
       "      <th>tpep_pickup_datetime</th>\n",
       "      <th>tpep_dropoff_datetime</th>\n",
       "      <th>passenger_count</th>\n",
       "      <th>trip_distance</th>\n",
       "      <th>RatecodeID</th>\n",
       "      <th>PULocationID</th>\n",
       "      <th>DOLocationID</th>\n",
       "      <th>payment_type</th>\n",
       "      <th>total_amount</th>\n",
       "    </tr>\n",
       "  </thead>\n",
       "  <tbody>\n",
       "    <tr>\n",
       "      <th>0</th>\n",
       "      <td>2024-01-01 00:57:55</td>\n",
       "      <td>2024-01-01 01:17:43</td>\n",
       "      <td>1.0</td>\n",
       "      <td>1.72</td>\n",
       "      <td>1.0</td>\n",
       "      <td>186</td>\n",
       "      <td>79</td>\n",
       "      <td>2</td>\n",
       "      <td>22.70</td>\n",
       "    </tr>\n",
       "    <tr>\n",
       "      <th>1</th>\n",
       "      <td>2024-01-01 00:03:00</td>\n",
       "      <td>2024-01-01 00:09:36</td>\n",
       "      <td>1.0</td>\n",
       "      <td>1.80</td>\n",
       "      <td>1.0</td>\n",
       "      <td>140</td>\n",
       "      <td>236</td>\n",
       "      <td>1</td>\n",
       "      <td>18.75</td>\n",
       "    </tr>\n",
       "    <tr>\n",
       "      <th>2</th>\n",
       "      <td>2024-01-01 00:17:06</td>\n",
       "      <td>2024-01-01 00:35:01</td>\n",
       "      <td>1.0</td>\n",
       "      <td>4.70</td>\n",
       "      <td>1.0</td>\n",
       "      <td>236</td>\n",
       "      <td>79</td>\n",
       "      <td>1</td>\n",
       "      <td>31.30</td>\n",
       "    </tr>\n",
       "    <tr>\n",
       "      <th>3</th>\n",
       "      <td>2024-01-01 00:36:38</td>\n",
       "      <td>2024-01-01 00:44:56</td>\n",
       "      <td>1.0</td>\n",
       "      <td>1.40</td>\n",
       "      <td>1.0</td>\n",
       "      <td>79</td>\n",
       "      <td>211</td>\n",
       "      <td>1</td>\n",
       "      <td>17.00</td>\n",
       "    </tr>\n",
       "    <tr>\n",
       "      <th>4</th>\n",
       "      <td>2024-01-01 00:46:51</td>\n",
       "      <td>2024-01-01 00:52:57</td>\n",
       "      <td>1.0</td>\n",
       "      <td>0.80</td>\n",
       "      <td>1.0</td>\n",
       "      <td>211</td>\n",
       "      <td>148</td>\n",
       "      <td>1</td>\n",
       "      <td>16.10</td>\n",
       "    </tr>\n",
       "  </tbody>\n",
       "</table>\n",
       "</div>"
      ],
      "text/plain": [
       "  tpep_pickup_datetime tpep_dropoff_datetime  passenger_count  trip_distance  \\\n",
       "0  2024-01-01 00:57:55   2024-01-01 01:17:43              1.0           1.72   \n",
       "1  2024-01-01 00:03:00   2024-01-01 00:09:36              1.0           1.80   \n",
       "2  2024-01-01 00:17:06   2024-01-01 00:35:01              1.0           4.70   \n",
       "3  2024-01-01 00:36:38   2024-01-01 00:44:56              1.0           1.40   \n",
       "4  2024-01-01 00:46:51   2024-01-01 00:52:57              1.0           0.80   \n",
       "\n",
       "   RatecodeID  PULocationID  DOLocationID  payment_type  total_amount  \n",
       "0         1.0           186            79             2         22.70  \n",
       "1         1.0           140           236             1         18.75  \n",
       "2         1.0           236            79             1         31.30  \n",
       "3         1.0            79           211             1         17.00  \n",
       "4         1.0           211           148             1         16.10  "
      ]
     },
     "execution_count": 58,
     "metadata": {},
     "output_type": "execute_result"
    }
   ],
   "source": [
    "mask = taxi_data_filtered['trip_distance'] <= 300\n",
    "taxi_data_filtered = taxi_data_filtered[mask]\n",
    "taxi_data_filtered.head()"
   ]
  },
  {
   "cell_type": "code",
   "execution_count": 59,
   "id": "6d1c2608",
   "metadata": {
    "scrolled": false
   },
   "outputs": [
    {
     "data": {
      "image/png": "[encoded data removed]",
      "text/plain": [
       "<Figure size 2000x1000 with 1 Axes>"
      ]
     },
     "metadata": {},
     "output_type": "display_data"
    }
   ],
   "source": [
    "taxi_data_filtered['trip_distance'].hist(figsize=(20, 10), bins=60)\n",
    "plt.show()"
   ]
  },
  {
   "cell_type": "code",
   "execution_count": 60,
   "id": "4e082e63",
   "metadata": {},
   "outputs": [
    {
     "data": {
      "text/plain": [
       "Index(['tpep_pickup_datetime', 'tpep_dropoff_datetime', 'passenger_count',\n",
       "       'trip_distance', 'RatecodeID', 'PULocationID', 'DOLocationID',\n",
       "       'payment_type', 'total_amount'],\n",
       "      dtype='object')"
      ]
     },
     "execution_count": 60,
     "metadata": {},
     "output_type": "execute_result"
    }
   ],
   "source": [
    "taxi_data_filtered.columns"
   ]
  },
  {
   "cell_type": "code",
   "execution_count": 61,
   "id": "4423fb13",
   "metadata": {},
   "outputs": [
    {
     "data": {
      "image/png": "[encoded data removed]",
      "text/plain": [
       "<Figure size 2000x1000 with 1 Axes>"
      ]
     },
     "metadata": {},
     "output_type": "display_data"
    }
   ],
   "source": [
    "taxi_data_filtered['total_amount'].hist(figsize=(20,10), bins=60)\n",
    "plt.show()"
   ]
  },
  {
   "cell_type": "code",
   "execution_count": 62,
   "id": "8086c0f2",
   "metadata": {},
   "outputs": [
    {
     "data": {
      "text/plain": [
       "total_amount\n",
       " 16.80     44254\n",
       " 12.60     42170\n",
       " 21.00     34606\n",
       " 15.12     25761\n",
       " 15.96     25487\n",
       "           ...  \n",
       " 106.09        1\n",
       " 20.67         1\n",
       " 259.98        1\n",
       "-33.14         1\n",
       "-52.63         1\n",
       "Name: count, Length: 18251, dtype: int64"
      ]
     },
     "execution_count": 62,
     "metadata": {},
     "output_type": "execute_result"
    }
   ],
   "source": [
    "taxi_data_filtered['total_amount'].value_counts()"
   ]
  },
  {
   "cell_type": "code",
   "execution_count": 63,
   "id": "df43f30c",
   "metadata": {},
   "outputs": [],
   "source": [
    "# Create a boolean mask to identify rows with non-negative total amounts\n",
    "mask = taxi_data_filtered['total_amount'] >= 0\n",
    "# Filter the DataFrame to include only rows with non-negative total amounts\n",
    "taxi_data_filtered = taxi_data_filtered[mask]"
   ]
  },
  {
   "cell_type": "code",
   "execution_count": 64,
   "id": "a97da96b",
   "metadata": {},
   "outputs": [
    {
     "data": {
      "image/png": "[encoded data removed]",
      "text/plain": [
       "<Figure size 2000x1000 with 1 Axes>"
      ]
     },
     "metadata": {},
     "output_type": "display_data"
    }
   ],
   "source": [
    "taxi_data_filtered['total_amount'].hist(figsize=(20,10), bins=60)\n",
    "plt.show()"
   ]
  },
  {
   "cell_type": "code",
   "execution_count": 65,
   "id": "2659e486",
   "metadata": {},
   "outputs": [
    {
     "data": {
      "text/html": [
       "<div>\n",
       "<style scoped>\n",
       "    .dataframe tbody tr th:only-of-type {\n",
       "        vertical-align: middle;\n",
       "    }\n",
       "\n",
       "    .dataframe tbody tr th {\n",
       "        vertical-align: top;\n",
       "    }\n",
       "\n",
       "    .dataframe thead th {\n",
       "        text-align: right;\n",
       "    }\n",
       "</style>\n",
       "<table border=\"1\" class=\"dataframe\">\n",
       "  <thead>\n",
       "    <tr style=\"text-align: right;\">\n",
       "      <th></th>\n",
       "      <th>tpep_pickup_datetime</th>\n",
       "      <th>tpep_dropoff_datetime</th>\n",
       "      <th>passenger_count</th>\n",
       "      <th>trip_distance</th>\n",
       "      <th>RatecodeID</th>\n",
       "      <th>PULocationID</th>\n",
       "      <th>DOLocationID</th>\n",
       "      <th>payment_type</th>\n",
       "      <th>total_amount</th>\n",
       "    </tr>\n",
       "  </thead>\n",
       "  <tbody>\n",
       "    <tr>\n",
       "      <th>0</th>\n",
       "      <td>2024-01-01 00:57:55</td>\n",
       "      <td>2024-01-01 01:17:43</td>\n",
       "      <td>1.0</td>\n",
       "      <td>1.72</td>\n",
       "      <td>1.0</td>\n",
       "      <td>186</td>\n",
       "      <td>79</td>\n",
       "      <td>2</td>\n",
       "      <td>22.70</td>\n",
       "    </tr>\n",
       "    <tr>\n",
       "      <th>1</th>\n",
       "      <td>2024-01-01 00:03:00</td>\n",
       "      <td>2024-01-01 00:09:36</td>\n",
       "      <td>1.0</td>\n",
       "      <td>1.80</td>\n",
       "      <td>1.0</td>\n",
       "      <td>140</td>\n",
       "      <td>236</td>\n",
       "      <td>1</td>\n",
       "      <td>18.75</td>\n",
       "    </tr>\n",
       "    <tr>\n",
       "      <th>2</th>\n",
       "      <td>2024-01-01 00:17:06</td>\n",
       "      <td>2024-01-01 00:35:01</td>\n",
       "      <td>1.0</td>\n",
       "      <td>4.70</td>\n",
       "      <td>1.0</td>\n",
       "      <td>236</td>\n",
       "      <td>79</td>\n",
       "      <td>1</td>\n",
       "      <td>31.30</td>\n",
       "    </tr>\n",
       "    <tr>\n",
       "      <th>3</th>\n",
       "      <td>2024-01-01 00:36:38</td>\n",
       "      <td>2024-01-01 00:44:56</td>\n",
       "      <td>1.0</td>\n",
       "      <td>1.40</td>\n",
       "      <td>1.0</td>\n",
       "      <td>79</td>\n",
       "      <td>211</td>\n",
       "      <td>1</td>\n",
       "      <td>17.00</td>\n",
       "    </tr>\n",
       "    <tr>\n",
       "      <th>4</th>\n",
       "      <td>2024-01-01 00:46:51</td>\n",
       "      <td>2024-01-01 00:52:57</td>\n",
       "      <td>1.0</td>\n",
       "      <td>0.80</td>\n",
       "      <td>1.0</td>\n",
       "      <td>211</td>\n",
       "      <td>148</td>\n",
       "      <td>1</td>\n",
       "      <td>16.10</td>\n",
       "    </tr>\n",
       "  </tbody>\n",
       "</table>\n",
       "</div>"
      ],
      "text/plain": [
       "  tpep_pickup_datetime tpep_dropoff_datetime  passenger_count  trip_distance  \\\n",
       "0  2024-01-01 00:57:55   2024-01-01 01:17:43              1.0           1.72   \n",
       "1  2024-01-01 00:03:00   2024-01-01 00:09:36              1.0           1.80   \n",
       "2  2024-01-01 00:17:06   2024-01-01 00:35:01              1.0           4.70   \n",
       "3  2024-01-01 00:36:38   2024-01-01 00:44:56              1.0           1.40   \n",
       "4  2024-01-01 00:46:51   2024-01-01 00:52:57              1.0           0.80   \n",
       "\n",
       "   RatecodeID  PULocationID  DOLocationID  payment_type  total_amount  \n",
       "0         1.0           186            79             2         22.70  \n",
       "1         1.0           140           236             1         18.75  \n",
       "2         1.0           236            79             1         31.30  \n",
       "3         1.0            79           211             1         17.00  \n",
       "4         1.0           211           148             1         16.10  "
      ]
     },
     "execution_count": 65,
     "metadata": {},
     "output_type": "execute_result"
    }
   ],
   "source": [
    "taxi_data_filtered.head()"
   ]
  },
  {
   "cell_type": "markdown",
   "id": "73fb3a74",
   "metadata": {},
   "source": [
    "\n",
    "\n",
    "# 4. Data Preparation  \n",
    "<a id=\"data_preparation\"></a>\n",
    "<br>\n",
    "[Back to the Top](#table-of-contents)"
   ]
  },
  {
   "cell_type": "code",
   "execution_count": 66,
   "id": "b0b1fcb4",
   "metadata": {},
   "outputs": [
    {
     "data": {
      "text/html": [
       "<div>\n",
       "<style scoped>\n",
       "    .dataframe tbody tr th:only-of-type {\n",
       "        vertical-align: middle;\n",
       "    }\n",
       "\n",
       "    .dataframe tbody tr th {\n",
       "        vertical-align: top;\n",
       "    }\n",
       "\n",
       "    .dataframe thead th {\n",
       "        text-align: right;\n",
       "    }\n",
       "</style>\n",
       "<table border=\"1\" class=\"dataframe\">\n",
       "  <thead>\n",
       "    <tr style=\"text-align: right;\">\n",
       "      <th></th>\n",
       "      <th>tpep_pickup_datetime</th>\n",
       "      <th>tpep_dropoff_datetime</th>\n",
       "      <th>passenger_count</th>\n",
       "      <th>trip_distance</th>\n",
       "      <th>RatecodeID</th>\n",
       "      <th>PULocationID</th>\n",
       "      <th>DOLocationID</th>\n",
       "      <th>payment_type</th>\n",
       "      <th>total_amount</th>\n",
       "    </tr>\n",
       "  </thead>\n",
       "  <tbody>\n",
       "    <tr>\n",
       "      <th>0</th>\n",
       "      <td>2024-01-01 00:57:55</td>\n",
       "      <td>2024-01-01 01:17:43</td>\n",
       "      <td>1.0</td>\n",
       "      <td>1.72</td>\n",
       "      <td>1.0</td>\n",
       "      <td>186</td>\n",
       "      <td>79</td>\n",
       "      <td>2</td>\n",
       "      <td>22.70</td>\n",
       "    </tr>\n",
       "    <tr>\n",
       "      <th>1</th>\n",
       "      <td>2024-01-01 00:03:00</td>\n",
       "      <td>2024-01-01 00:09:36</td>\n",
       "      <td>1.0</td>\n",
       "      <td>1.80</td>\n",
       "      <td>1.0</td>\n",
       "      <td>140</td>\n",
       "      <td>236</td>\n",
       "      <td>1</td>\n",
       "      <td>18.75</td>\n",
       "    </tr>\n",
       "    <tr>\n",
       "      <th>2</th>\n",
       "      <td>2024-01-01 00:17:06</td>\n",
       "      <td>2024-01-01 00:35:01</td>\n",
       "      <td>1.0</td>\n",
       "      <td>4.70</td>\n",
       "      <td>1.0</td>\n",
       "      <td>236</td>\n",
       "      <td>79</td>\n",
       "      <td>1</td>\n",
       "      <td>31.30</td>\n",
       "    </tr>\n",
       "    <tr>\n",
       "      <th>3</th>\n",
       "      <td>2024-01-01 00:36:38</td>\n",
       "      <td>2024-01-01 00:44:56</td>\n",
       "      <td>1.0</td>\n",
       "      <td>1.40</td>\n",
       "      <td>1.0</td>\n",
       "      <td>79</td>\n",
       "      <td>211</td>\n",
       "      <td>1</td>\n",
       "      <td>17.00</td>\n",
       "    </tr>\n",
       "    <tr>\n",
       "      <th>4</th>\n",
       "      <td>2024-01-01 00:46:51</td>\n",
       "      <td>2024-01-01 00:52:57</td>\n",
       "      <td>1.0</td>\n",
       "      <td>0.80</td>\n",
       "      <td>1.0</td>\n",
       "      <td>211</td>\n",
       "      <td>148</td>\n",
       "      <td>1</td>\n",
       "      <td>16.10</td>\n",
       "    </tr>\n",
       "  </tbody>\n",
       "</table>\n",
       "</div>"
      ],
      "text/plain": [
       "  tpep_pickup_datetime tpep_dropoff_datetime  passenger_count  trip_distance  \\\n",
       "0  2024-01-01 00:57:55   2024-01-01 01:17:43              1.0           1.72   \n",
       "1  2024-01-01 00:03:00   2024-01-01 00:09:36              1.0           1.80   \n",
       "2  2024-01-01 00:17:06   2024-01-01 00:35:01              1.0           4.70   \n",
       "3  2024-01-01 00:36:38   2024-01-01 00:44:56              1.0           1.40   \n",
       "4  2024-01-01 00:46:51   2024-01-01 00:52:57              1.0           0.80   \n",
       "\n",
       "   RatecodeID  PULocationID  DOLocationID  payment_type  total_amount  \n",
       "0         1.0           186            79             2         22.70  \n",
       "1         1.0           140           236             1         18.75  \n",
       "2         1.0           236            79             1         31.30  \n",
       "3         1.0            79           211             1         17.00  \n",
       "4         1.0           211           148             1         16.10  "
      ]
     },
     "execution_count": 66,
     "metadata": {},
     "output_type": "execute_result"
    }
   ],
   "source": [
    "taxi_data_prepared = taxi_data_filtered.copy()\n",
    "taxi_data_prepared.head()"
   ]
  },
  {
   "cell_type": "code",
   "execution_count": 67,
   "id": "0a14702e",
   "metadata": {},
   "outputs": [
    {
     "data": {
      "text/plain": [
       "tpep_pickup_datetime     datetime64[ns]\n",
       "tpep_dropoff_datetime    datetime64[ns]\n",
       "passenger_count                 float64\n",
       "trip_distance                   float64\n",
       "RatecodeID                      float64\n",
       "PULocationID                      int32\n",
       "DOLocationID                      int32\n",
       "payment_type                      int64\n",
       "total_amount                    float64\n",
       "dtype: object"
      ]
     },
     "execution_count": 67,
     "metadata": {},
     "output_type": "execute_result"
    }
   ],
   "source": [
    "taxi_data_prepared.dtypes"
   ]
  },
  {
   "cell_type": "markdown",
   "id": "c3993dfa",
   "metadata": {},
   "source": [
    "<b> Data type conversion </b>\n",
    "* PULocationID - convert to string\n",
    "* DOLocationID - convert to string\n",
    "* RatecodeID - convert to string \n",
    "* payment_type - convert to string \n",
    "\n",
    "We are converting it to a category because we dont want the model to treat it as a number \\\n",
    "higher than another but as a category of values\n",
    "* passenger_count - convert to int \n"
   ]
  },
  {
   "cell_type": "code",
   "execution_count": 68,
   "id": "1a58b414",
   "metadata": {
    "scrolled": false
   },
   "outputs": [
    {
     "name": "stderr",
     "output_type": "stream",
     "text": [
      "C:\\Users\\iwiss\\AppData\\Local\\Temp\\ipykernel_27940\\2494067482.py:1: FutureWarning: Setting an item of incompatible dtype is deprecated and will raise in a future error of pandas. Value '['1.0' '1.0' '1.0' ... '1.0' '1.0' '1.0']' has dtype incompatible with float64, please explicitly cast to a compatible dtype first.\n",
      "  taxi_data_prepared.loc[:, 'RatecodeID'] = taxi_data_prepared['RatecodeID'].astype(str)\n",
      "C:\\Users\\iwiss\\AppData\\Local\\Temp\\ipykernel_27940\\2494067482.py:2: FutureWarning: Setting an item of incompatible dtype is deprecated and will raise in a future error of pandas. Value '['79' '236' '79' ... '249' '163' '263']' has dtype incompatible with int32, please explicitly cast to a compatible dtype first.\n",
      "  taxi_data_prepared.loc[:, 'DOLocationID'] = taxi_data_prepared['DOLocationID'].astype(str)\n",
      "C:\\Users\\iwiss\\AppData\\Local\\Temp\\ipykernel_27940\\2494067482.py:3: FutureWarning: Setting an item of incompatible dtype is deprecated and will raise in a future error of pandas. Value '['186' '140' '236' ... '43' '142' '140']' has dtype incompatible with int32, please explicitly cast to a compatible dtype first.\n",
      "  taxi_data_prepared.loc[:, 'PULocationID'] = taxi_data_prepared['PULocationID'].astype(str)\n",
      "C:\\Users\\iwiss\\AppData\\Local\\Temp\\ipykernel_27940\\2494067482.py:4: FutureWarning: Setting an item of incompatible dtype is deprecated and will raise in a future error of pandas. Value '['2' '1' '1' ... '1' '2' '1']' has dtype incompatible with int64, please explicitly cast to a compatible dtype first.\n",
      "  taxi_data_prepared.loc[:, 'payment_type'] = taxi_data_prepared['payment_type'].astype(str)\n"
     ]
    }
   ],
   "source": [
    "taxi_data_prepared.loc[:, 'RatecodeID'] = taxi_data_prepared['RatecodeID'].astype(str)\n",
    "taxi_data_prepared.loc[:, 'DOLocationID'] = taxi_data_prepared['DOLocationID'].astype(str)\n",
    "taxi_data_prepared.loc[:, 'PULocationID'] = taxi_data_prepared['PULocationID'].astype(str)\n",
    "taxi_data_prepared.loc[:, 'payment_type'] = taxi_data_prepared['payment_type'].astype(str)"
   ]
  },
  {
   "cell_type": "code",
   "execution_count": 69,
   "id": "e6a6eb00",
   "metadata": {},
   "outputs": [],
   "source": [
    "#convert to an int \n",
    "taxi_data_prepared['passenger_count'] = pd.to_numeric(taxi_data_prepared['passenger_count']\\\n",
    "                                                      , errors='coerce').astype(int)"
   ]
  },
  {
   "cell_type": "code",
   "execution_count": 70,
   "id": "24ea360b",
   "metadata": {},
   "outputs": [
    {
     "data": {
      "text/plain": [
       "tpep_pickup_datetime     datetime64[ns]\n",
       "tpep_dropoff_datetime    datetime64[ns]\n",
       "passenger_count                   int32\n",
       "trip_distance                   float64\n",
       "RatecodeID                       object\n",
       "PULocationID                     object\n",
       "DOLocationID                     object\n",
       "payment_type                     object\n",
       "total_amount                    float64\n",
       "dtype: object"
      ]
     },
     "execution_count": 70,
     "metadata": {},
     "output_type": "execute_result"
    }
   ],
   "source": [
    "taxi_data_prepared.dtypes"
   ]
  },
  {
   "cell_type": "markdown",
   "id": "6fdb3c18",
   "metadata": {},
   "source": [
    "Transforming variables into formats we need them "
   ]
  },
  {
   "cell_type": "code",
   "execution_count": 71,
   "id": "b2b10ae7",
   "metadata": {},
   "outputs": [
    {
     "data": {
      "text/html": [
       "<div>\n",
       "<style scoped>\n",
       "    .dataframe tbody tr th:only-of-type {\n",
       "        vertical-align: middle;\n",
       "    }\n",
       "\n",
       "    .dataframe tbody tr th {\n",
       "        vertical-align: top;\n",
       "    }\n",
       "\n",
       "    .dataframe thead th {\n",
       "        text-align: right;\n",
       "    }\n",
       "</style>\n",
       "<table border=\"1\" class=\"dataframe\">\n",
       "  <thead>\n",
       "    <tr style=\"text-align: right;\">\n",
       "      <th></th>\n",
       "      <th>tpep_pickup_datetime</th>\n",
       "      <th>tpep_dropoff_datetime</th>\n",
       "      <th>passenger_count</th>\n",
       "      <th>trip_distance</th>\n",
       "      <th>RatecodeID</th>\n",
       "      <th>PULocationID</th>\n",
       "      <th>DOLocationID</th>\n",
       "      <th>payment_type</th>\n",
       "      <th>total_amount</th>\n",
       "    </tr>\n",
       "  </thead>\n",
       "  <tbody>\n",
       "    <tr>\n",
       "      <th>0</th>\n",
       "      <td>2024-01-01 00:57:55</td>\n",
       "      <td>2024-01-01 01:17:43</td>\n",
       "      <td>1</td>\n",
       "      <td>1.72</td>\n",
       "      <td>1.0</td>\n",
       "      <td>186</td>\n",
       "      <td>79</td>\n",
       "      <td>2</td>\n",
       "      <td>22.70</td>\n",
       "    </tr>\n",
       "    <tr>\n",
       "      <th>1</th>\n",
       "      <td>2024-01-01 00:03:00</td>\n",
       "      <td>2024-01-01 00:09:36</td>\n",
       "      <td>1</td>\n",
       "      <td>1.80</td>\n",
       "      <td>1.0</td>\n",
       "      <td>140</td>\n",
       "      <td>236</td>\n",
       "      <td>1</td>\n",
       "      <td>18.75</td>\n",
       "    </tr>\n",
       "    <tr>\n",
       "      <th>2</th>\n",
       "      <td>2024-01-01 00:17:06</td>\n",
       "      <td>2024-01-01 00:35:01</td>\n",
       "      <td>1</td>\n",
       "      <td>4.70</td>\n",
       "      <td>1.0</td>\n",
       "      <td>236</td>\n",
       "      <td>79</td>\n",
       "      <td>1</td>\n",
       "      <td>31.30</td>\n",
       "    </tr>\n",
       "    <tr>\n",
       "      <th>3</th>\n",
       "      <td>2024-01-01 00:36:38</td>\n",
       "      <td>2024-01-01 00:44:56</td>\n",
       "      <td>1</td>\n",
       "      <td>1.40</td>\n",
       "      <td>1.0</td>\n",
       "      <td>79</td>\n",
       "      <td>211</td>\n",
       "      <td>1</td>\n",
       "      <td>17.00</td>\n",
       "    </tr>\n",
       "    <tr>\n",
       "      <th>4</th>\n",
       "      <td>2024-01-01 00:46:51</td>\n",
       "      <td>2024-01-01 00:52:57</td>\n",
       "      <td>1</td>\n",
       "      <td>0.80</td>\n",
       "      <td>1.0</td>\n",
       "      <td>211</td>\n",
       "      <td>148</td>\n",
       "      <td>1</td>\n",
       "      <td>16.10</td>\n",
       "    </tr>\n",
       "  </tbody>\n",
       "</table>\n",
       "</div>"
      ],
      "text/plain": [
       "  tpep_pickup_datetime tpep_dropoff_datetime  passenger_count  trip_distance  \\\n",
       "0  2024-01-01 00:57:55   2024-01-01 01:17:43                1           1.72   \n",
       "1  2024-01-01 00:03:00   2024-01-01 00:09:36                1           1.80   \n",
       "2  2024-01-01 00:17:06   2024-01-01 00:35:01                1           4.70   \n",
       "3  2024-01-01 00:36:38   2024-01-01 00:44:56                1           1.40   \n",
       "4  2024-01-01 00:46:51   2024-01-01 00:52:57                1           0.80   \n",
       "\n",
       "  RatecodeID PULocationID DOLocationID payment_type  total_amount  \n",
       "0        1.0          186           79            2         22.70  \n",
       "1        1.0          140          236            1         18.75  \n",
       "2        1.0          236           79            1         31.30  \n",
       "3        1.0           79          211            1         17.00  \n",
       "4        1.0          211          148            1         16.10  "
      ]
     },
     "execution_count": 71,
     "metadata": {},
     "output_type": "execute_result"
    }
   ],
   "source": [
    "taxi_data_prepared.head()"
   ]
  },
  {
   "cell_type": "code",
   "execution_count": 72,
   "id": "6cd71368",
   "metadata": {},
   "outputs": [],
   "source": [
    "# Extracting date component\n",
    "taxi_data_prepared['transaction_date'] = taxi_data_prepared['tpep_pickup_datetime'].dt.date\n",
    "\n",
    "# Extracting year component\n",
    "taxi_data_prepared['transaction_year'] = taxi_data_prepared['tpep_pickup_datetime'].dt.year\n",
    "\n",
    "# Extracting month component\n",
    "taxi_data_prepared['transaction_month'] = taxi_data_prepared['tpep_pickup_datetime'].dt.month\n",
    "\n",
    "# Extracting day component\n",
    "taxi_data_prepared['transaction_day'] = taxi_data_prepared['tpep_pickup_datetime'].dt.day\n",
    "\n",
    "# Extracting hour component\n",
    "taxi_data_prepared['transaction_hour'] = taxi_data_prepared['tpep_pickup_datetime'].dt.hour\n"
   ]
  },
  {
   "cell_type": "code",
   "execution_count": 73,
   "id": "d6b10f02",
   "metadata": {},
   "outputs": [
    {
     "data": {
      "text/html": [
       "<div>\n",
       "<style scoped>\n",
       "    .dataframe tbody tr th:only-of-type {\n",
       "        vertical-align: middle;\n",
       "    }\n",
       "\n",
       "    .dataframe tbody tr th {\n",
       "        vertical-align: top;\n",
       "    }\n",
       "\n",
       "    .dataframe thead th {\n",
       "        text-align: right;\n",
       "    }\n",
       "</style>\n",
       "<table border=\"1\" class=\"dataframe\">\n",
       "  <thead>\n",
       "    <tr style=\"text-align: right;\">\n",
       "      <th></th>\n",
       "      <th>tpep_pickup_datetime</th>\n",
       "      <th>tpep_dropoff_datetime</th>\n",
       "      <th>passenger_count</th>\n",
       "      <th>trip_distance</th>\n",
       "      <th>RatecodeID</th>\n",
       "      <th>PULocationID</th>\n",
       "      <th>DOLocationID</th>\n",
       "      <th>payment_type</th>\n",
       "      <th>total_amount</th>\n",
       "      <th>transaction_date</th>\n",
       "      <th>transaction_year</th>\n",
       "      <th>transaction_month</th>\n",
       "      <th>transaction_day</th>\n",
       "      <th>transaction_hour</th>\n",
       "    </tr>\n",
       "  </thead>\n",
       "  <tbody>\n",
       "    <tr>\n",
       "      <th>0</th>\n",
       "      <td>2024-01-01 00:57:55</td>\n",
       "      <td>2024-01-01 01:17:43</td>\n",
       "      <td>1</td>\n",
       "      <td>1.72</td>\n",
       "      <td>1.0</td>\n",
       "      <td>186</td>\n",
       "      <td>79</td>\n",
       "      <td>2</td>\n",
       "      <td>22.70</td>\n",
       "      <td>2024-01-01</td>\n",
       "      <td>2024</td>\n",
       "      <td>1</td>\n",
       "      <td>1</td>\n",
       "      <td>0</td>\n",
       "    </tr>\n",
       "    <tr>\n",
       "      <th>1</th>\n",
       "      <td>2024-01-01 00:03:00</td>\n",
       "      <td>2024-01-01 00:09:36</td>\n",
       "      <td>1</td>\n",
       "      <td>1.80</td>\n",
       "      <td>1.0</td>\n",
       "      <td>140</td>\n",
       "      <td>236</td>\n",
       "      <td>1</td>\n",
       "      <td>18.75</td>\n",
       "      <td>2024-01-01</td>\n",
       "      <td>2024</td>\n",
       "      <td>1</td>\n",
       "      <td>1</td>\n",
       "      <td>0</td>\n",
       "    </tr>\n",
       "    <tr>\n",
       "      <th>2</th>\n",
       "      <td>2024-01-01 00:17:06</td>\n",
       "      <td>2024-01-01 00:35:01</td>\n",
       "      <td>1</td>\n",
       "      <td>4.70</td>\n",
       "      <td>1.0</td>\n",
       "      <td>236</td>\n",
       "      <td>79</td>\n",
       "      <td>1</td>\n",
       "      <td>31.30</td>\n",
       "      <td>2024-01-01</td>\n",
       "      <td>2024</td>\n",
       "      <td>1</td>\n",
       "      <td>1</td>\n",
       "      <td>0</td>\n",
       "    </tr>\n",
       "    <tr>\n",
       "      <th>3</th>\n",
       "      <td>2024-01-01 00:36:38</td>\n",
       "      <td>2024-01-01 00:44:56</td>\n",
       "      <td>1</td>\n",
       "      <td>1.40</td>\n",
       "      <td>1.0</td>\n",
       "      <td>79</td>\n",
       "      <td>211</td>\n",
       "      <td>1</td>\n",
       "      <td>17.00</td>\n",
       "      <td>2024-01-01</td>\n",
       "      <td>2024</td>\n",
       "      <td>1</td>\n",
       "      <td>1</td>\n",
       "      <td>0</td>\n",
       "    </tr>\n",
       "    <tr>\n",
       "      <th>4</th>\n",
       "      <td>2024-01-01 00:46:51</td>\n",
       "      <td>2024-01-01 00:52:57</td>\n",
       "      <td>1</td>\n",
       "      <td>0.80</td>\n",
       "      <td>1.0</td>\n",
       "      <td>211</td>\n",
       "      <td>148</td>\n",
       "      <td>1</td>\n",
       "      <td>16.10</td>\n",
       "      <td>2024-01-01</td>\n",
       "      <td>2024</td>\n",
       "      <td>1</td>\n",
       "      <td>1</td>\n",
       "      <td>0</td>\n",
       "    </tr>\n",
       "  </tbody>\n",
       "</table>\n",
       "</div>"
      ],
      "text/plain": [
       "  tpep_pickup_datetime tpep_dropoff_datetime  passenger_count  trip_distance  \\\n",
       "0  2024-01-01 00:57:55   2024-01-01 01:17:43                1           1.72   \n",
       "1  2024-01-01 00:03:00   2024-01-01 00:09:36                1           1.80   \n",
       "2  2024-01-01 00:17:06   2024-01-01 00:35:01                1           4.70   \n",
       "3  2024-01-01 00:36:38   2024-01-01 00:44:56                1           1.40   \n",
       "4  2024-01-01 00:46:51   2024-01-01 00:52:57                1           0.80   \n",
       "\n",
       "  RatecodeID PULocationID DOLocationID payment_type  total_amount  \\\n",
       "0        1.0          186           79            2         22.70   \n",
       "1        1.0          140          236            1         18.75   \n",
       "2        1.0          236           79            1         31.30   \n",
       "3        1.0           79          211            1         17.00   \n",
       "4        1.0          211          148            1         16.10   \n",
       "\n",
       "  transaction_date  transaction_year  transaction_month  transaction_day  \\\n",
       "0       2024-01-01              2024                  1                1   \n",
       "1       2024-01-01              2024                  1                1   \n",
       "2       2024-01-01              2024                  1                1   \n",
       "3       2024-01-01              2024                  1                1   \n",
       "4       2024-01-01              2024                  1                1   \n",
       "\n",
       "   transaction_hour  \n",
       "0                 0  \n",
       "1                 0  \n",
       "2                 0  \n",
       "3                 0  \n",
       "4                 0  "
      ]
     },
     "execution_count": 73,
     "metadata": {},
     "output_type": "execute_result"
    }
   ],
   "source": [
    "taxi_data_prepared.head()"
   ]
  },
  {
   "cell_type": "code",
   "execution_count": 74,
   "id": "7cf1e352",
   "metadata": {},
   "outputs": [
    {
     "data": {
      "image/png": "[encoded data removed]",
      "text/plain": [
       "<Figure size 2000x1000 with 9 Axes>"
      ]
     },
     "metadata": {},
     "output_type": "display_data"
    }
   ],
   "source": [
    "taxi_data_prepared.hist(figsize=(20,10), bins=20)\n",
    "plt.show()"
   ]
  },
  {
   "cell_type": "code",
   "execution_count": 75,
   "id": "9cb1539f",
   "metadata": {},
   "outputs": [],
   "source": [
    "taxi_data_prepared = taxi_data_prepared[taxi_data_prepared['transaction_year']==2024]\n",
    "taxi_data_prepared = taxi_data_prepared[taxi_data_prepared['transaction_month']==1]"
   ]
  },
  {
   "cell_type": "code",
   "execution_count": 76,
   "id": "c9684f92",
   "metadata": {
    "scrolled": true
   },
   "outputs": [
    {
     "data": {
      "image/png": "[encoded data removed]",
      "text/plain": [
       "<Figure size 2000x1000 with 9 Axes>"
      ]
     },
     "metadata": {},
     "output_type": "display_data"
    }
   ],
   "source": [
    "taxi_data_prepared.hist(figsize=(20,10), bins=20)\n",
    "plt.show()"
   ]
  },
  {
   "cell_type": "markdown",
   "id": "0835e1b0",
   "metadata": {},
   "source": [
    "The new features created have to have their datatypes converted "
   ]
  },
  {
   "cell_type": "code",
   "execution_count": 77,
   "id": "26b41b61",
   "metadata": {},
   "outputs": [
    {
     "data": {
      "text/plain": [
       "tpep_pickup_datetime     datetime64[ns]\n",
       "tpep_dropoff_datetime    datetime64[ns]\n",
       "passenger_count                   int32\n",
       "trip_distance                   float64\n",
       "RatecodeID                       object\n",
       "PULocationID                     object\n",
       "DOLocationID                     object\n",
       "payment_type                     object\n",
       "total_amount                    float64\n",
       "transaction_date                 object\n",
       "transaction_year                  int32\n",
       "transaction_month                 int32\n",
       "transaction_day                   int32\n",
       "transaction_hour                  int32\n",
       "dtype: object"
      ]
     },
     "execution_count": 77,
     "metadata": {},
     "output_type": "execute_result"
    }
   ],
   "source": [
    "taxi_data_prepared.dtypes "
   ]
  },
  {
   "cell_type": "code",
   "execution_count": 78,
   "id": "4d6e4fbc",
   "metadata": {},
   "outputs": [],
   "source": [
    "# Convert 'transaction_date' column to datetime type\n",
    "taxi_data_prepared['transaction_date'] = pd.to_datetime(taxi_data_prepared['transaction_date'],\\\n",
    "                                                        errors='coerce')"
   ]
  },
  {
   "cell_type": "code",
   "execution_count": 79,
   "id": "e5496abf",
   "metadata": {},
   "outputs": [
    {
     "data": {
      "text/plain": [
       "tpep_pickup_datetime     datetime64[ns]\n",
       "tpep_dropoff_datetime    datetime64[ns]\n",
       "passenger_count                   int32\n",
       "trip_distance                   float64\n",
       "RatecodeID                       object\n",
       "PULocationID                     object\n",
       "DOLocationID                     object\n",
       "payment_type                     object\n",
       "total_amount                    float64\n",
       "transaction_date         datetime64[ns]\n",
       "transaction_year                  int32\n",
       "transaction_month                 int32\n",
       "transaction_day                   int32\n",
       "transaction_hour                  int32\n",
       "dtype: object"
      ]
     },
     "execution_count": 79,
     "metadata": {},
     "output_type": "execute_result"
    }
   ],
   "source": [
    "taxi_data_prepared.dtypes"
   ]
  },
  {
   "cell_type": "markdown",
   "id": "15a1837f",
   "metadata": {},
   "source": [
    "#### Predict how much money or the average money people spent for a cab ride \n",
    "#### in New York (a certain region)  in a given hour of a day of a month "
   ]
  },
  {
   "cell_type": "code",
   "execution_count": 80,
   "id": "28881b1b",
   "metadata": {},
   "outputs": [
    {
     "data": {
      "text/plain": [
       "Index(['tpep_pickup_datetime', 'tpep_dropoff_datetime', 'passenger_count',\n",
       "       'trip_distance', 'RatecodeID', 'PULocationID', 'DOLocationID',\n",
       "       'payment_type', 'total_amount', 'transaction_date', 'transaction_year',\n",
       "       'transaction_month', 'transaction_day', 'transaction_hour'],\n",
       "      dtype='object')"
      ]
     },
     "execution_count": 80,
     "metadata": {},
     "output_type": "execute_result"
    }
   ],
   "source": [
    "taxi_data_prepared.columns"
   ]
  },
  {
   "cell_type": "code",
   "execution_count": 81,
   "id": "fa567c05",
   "metadata": {},
   "outputs": [],
   "source": [
    "categorical_columns = ['PULocationID', 'transaction_date', 'transaction_month',\\\n",
    "                      'transaction_hour', 'transaction_day']\n",
    "numerical_columns = ['trip_distance', 'total_amount']\n",
    "all_needed_columns = categorical_columns + numerical_columns "
   ]
  },
  {
   "cell_type": "code",
   "execution_count": 82,
   "id": "307a5e3a",
   "metadata": {},
   "outputs": [
    {
     "name": "stdout",
     "output_type": "stream",
     "text": [
      "(2704505, 7)\n"
     ]
    },
    {
     "data": {
      "text/html": [
       "<div>\n",
       "<style scoped>\n",
       "    .dataframe tbody tr th:only-of-type {\n",
       "        vertical-align: middle;\n",
       "    }\n",
       "\n",
       "    .dataframe tbody tr th {\n",
       "        vertical-align: top;\n",
       "    }\n",
       "\n",
       "    .dataframe thead th {\n",
       "        text-align: right;\n",
       "    }\n",
       "</style>\n",
       "<table border=\"1\" class=\"dataframe\">\n",
       "  <thead>\n",
       "    <tr style=\"text-align: right;\">\n",
       "      <th></th>\n",
       "      <th>PULocationID</th>\n",
       "      <th>transaction_date</th>\n",
       "      <th>transaction_month</th>\n",
       "      <th>transaction_hour</th>\n",
       "      <th>transaction_day</th>\n",
       "      <th>trip_distance</th>\n",
       "      <th>total_amount</th>\n",
       "    </tr>\n",
       "  </thead>\n",
       "  <tbody>\n",
       "    <tr>\n",
       "      <th>0</th>\n",
       "      <td>186</td>\n",
       "      <td>2024-01-01</td>\n",
       "      <td>1</td>\n",
       "      <td>0</td>\n",
       "      <td>1</td>\n",
       "      <td>1.72</td>\n",
       "      <td>22.70</td>\n",
       "    </tr>\n",
       "    <tr>\n",
       "      <th>1</th>\n",
       "      <td>140</td>\n",
       "      <td>2024-01-01</td>\n",
       "      <td>1</td>\n",
       "      <td>0</td>\n",
       "      <td>1</td>\n",
       "      <td>1.80</td>\n",
       "      <td>18.75</td>\n",
       "    </tr>\n",
       "    <tr>\n",
       "      <th>2</th>\n",
       "      <td>236</td>\n",
       "      <td>2024-01-01</td>\n",
       "      <td>1</td>\n",
       "      <td>0</td>\n",
       "      <td>1</td>\n",
       "      <td>4.70</td>\n",
       "      <td>31.30</td>\n",
       "    </tr>\n",
       "    <tr>\n",
       "      <th>3</th>\n",
       "      <td>79</td>\n",
       "      <td>2024-01-01</td>\n",
       "      <td>1</td>\n",
       "      <td>0</td>\n",
       "      <td>1</td>\n",
       "      <td>1.40</td>\n",
       "      <td>17.00</td>\n",
       "    </tr>\n",
       "    <tr>\n",
       "      <th>4</th>\n",
       "      <td>211</td>\n",
       "      <td>2024-01-01</td>\n",
       "      <td>1</td>\n",
       "      <td>0</td>\n",
       "      <td>1</td>\n",
       "      <td>0.80</td>\n",
       "      <td>16.10</td>\n",
       "    </tr>\n",
       "  </tbody>\n",
       "</table>\n",
       "</div>"
      ],
      "text/plain": [
       "  PULocationID transaction_date  transaction_month  transaction_hour  \\\n",
       "0          186       2024-01-01                  1                 0   \n",
       "1          140       2024-01-01                  1                 0   \n",
       "2          236       2024-01-01                  1                 0   \n",
       "3           79       2024-01-01                  1                 0   \n",
       "4          211       2024-01-01                  1                 0   \n",
       "\n",
       "   transaction_day  trip_distance  total_amount  \n",
       "0                1           1.72         22.70  \n",
       "1                1           1.80         18.75  \n",
       "2                1           4.70         31.30  \n",
       "3                1           1.40         17.00  \n",
       "4                1           0.80         16.10  "
      ]
     },
     "execution_count": 82,
     "metadata": {},
     "output_type": "execute_result"
    }
   ],
   "source": [
    "main_taxi_df = taxi_data_prepared[all_needed_columns]\n",
    "print(main_taxi_df.shape)\n",
    "main_taxi_df.head()"
   ]
  },
  {
   "cell_type": "markdown",
   "id": "aa203d67",
   "metadata": {},
   "source": [
    "Aggregate data points <br> \n",
    "Now is a good time to think about what we want to predict. Depending on this, we need to transform our data to have a certain format."
   ]
  },
  {
   "cell_type": "code",
   "execution_count": 85,
   "id": "dc88013b",
   "metadata": {},
   "outputs": [
    {
     "name": "stdout",
     "output_type": "stream",
     "text": [
      "(58873, 8)\n"
     ]
    },
    {
     "data": {
      "text/html": [
       "<div>\n",
       "<style scoped>\n",
       "    .dataframe tbody tr th:only-of-type {\n",
       "        vertical-align: middle;\n",
       "    }\n",
       "\n",
       "    .dataframe tbody tr th {\n",
       "        vertical-align: top;\n",
       "    }\n",
       "\n",
       "    .dataframe thead th {\n",
       "        text-align: right;\n",
       "    }\n",
       "</style>\n",
       "<table border=\"1\" class=\"dataframe\">\n",
       "  <thead>\n",
       "    <tr style=\"text-align: right;\">\n",
       "      <th></th>\n",
       "      <th>PULocationID</th>\n",
       "      <th>transaction_date</th>\n",
       "      <th>transaction_month</th>\n",
       "      <th>transaction_hour</th>\n",
       "      <th>transaction_day</th>\n",
       "      <th>trip_distance</th>\n",
       "      <th>total_amount</th>\n",
       "      <th>count_of_transactions</th>\n",
       "    </tr>\n",
       "  </thead>\n",
       "  <tbody>\n",
       "    <tr>\n",
       "      <th>0</th>\n",
       "      <td>1</td>\n",
       "      <td>2024-01-01</td>\n",
       "      <td>1</td>\n",
       "      <td>5</td>\n",
       "      <td>1</td>\n",
       "      <td>0.000000</td>\n",
       "      <td>109.200000</td>\n",
       "      <td>1</td>\n",
       "    </tr>\n",
       "    <tr>\n",
       "      <th>1</th>\n",
       "      <td>1</td>\n",
       "      <td>2024-01-01</td>\n",
       "      <td>1</td>\n",
       "      <td>6</td>\n",
       "      <td>1</td>\n",
       "      <td>0.020000</td>\n",
       "      <td>76.000000</td>\n",
       "      <td>3</td>\n",
       "    </tr>\n",
       "    <tr>\n",
       "      <th>2</th>\n",
       "      <td>1</td>\n",
       "      <td>2024-01-01</td>\n",
       "      <td>1</td>\n",
       "      <td>13</td>\n",
       "      <td>1</td>\n",
       "      <td>0.000000</td>\n",
       "      <td>108.983333</td>\n",
       "      <td>3</td>\n",
       "    </tr>\n",
       "    <tr>\n",
       "      <th>3</th>\n",
       "      <td>1</td>\n",
       "      <td>2024-01-01</td>\n",
       "      <td>1</td>\n",
       "      <td>14</td>\n",
       "      <td>1</td>\n",
       "      <td>0.001667</td>\n",
       "      <td>85.680000</td>\n",
       "      <td>6</td>\n",
       "    </tr>\n",
       "    <tr>\n",
       "      <th>4</th>\n",
       "      <td>1</td>\n",
       "      <td>2024-01-01</td>\n",
       "      <td>1</td>\n",
       "      <td>15</td>\n",
       "      <td>1</td>\n",
       "      <td>0.000000</td>\n",
       "      <td>145.620000</td>\n",
       "      <td>2</td>\n",
       "    </tr>\n",
       "  </tbody>\n",
       "</table>\n",
       "</div>"
      ],
      "text/plain": [
       "  PULocationID transaction_date  transaction_month  transaction_hour  \\\n",
       "0            1       2024-01-01                  1                 5   \n",
       "1            1       2024-01-01                  1                 6   \n",
       "2            1       2024-01-01                  1                13   \n",
       "3            1       2024-01-01                  1                14   \n",
       "4            1       2024-01-01                  1                15   \n",
       "\n",
       "   transaction_day  trip_distance  total_amount  count_of_transactions  \n",
       "0                1       0.000000    109.200000                      1  \n",
       "1                1       0.020000     76.000000                      3  \n",
       "2                1       0.000000    108.983333                      3  \n",
       "3                1       0.001667     85.680000                      6  \n",
       "4                1       0.000000    145.620000                      2  "
      ]
     },
     "execution_count": 85,
     "metadata": {},
     "output_type": "execute_result"
    }
   ],
   "source": [
    "taxi_grouped_by_region = main_taxi_df.groupby(categorical_columns).mean().reset_index() \n",
    "taxi_grouped_by_region['count_of_transactions'] = main_taxi_df.groupby\\\n",
    "(categorical_columns).count().reset_index()['total_amount']\n",
    "#taxi_grouped_by_region['total_amount'] = taxi_grouped_by_region['total_amount'].round(2)\n",
    "#taxi_grouped_by_region['trip_distance'] = taxi_grouped_by_region['trip_distance'].round(2)\n",
    "print(taxi_grouped_by_region.shape)\n",
    "taxi_grouped_by_region.head()"
   ]
  },
  {
   "cell_type": "code",
   "execution_count": 86,
   "id": "311f7b75",
   "metadata": {},
   "outputs": [
    {
     "data": {
      "text/plain": [
       "PULocationID                     object\n",
       "transaction_date         datetime64[ns]\n",
       "transaction_month                 int32\n",
       "transaction_hour                  int32\n",
       "transaction_day                   int32\n",
       "trip_distance                   float64\n",
       "total_amount                    float64\n",
       "count_of_transactions             int64\n",
       "dtype: object"
      ]
     },
     "execution_count": 86,
     "metadata": {},
     "output_type": "execute_result"
    }
   ],
   "source": [
    "taxi_grouped_by_region.dtypes"
   ]
  },
  {
   "cell_type": "code",
   "execution_count": 88,
   "id": "d7ebfa37",
   "metadata": {},
   "outputs": [
    {
     "data": {
      "image/png": "[encoded data removed]",
      "text/plain": [
       "<Figure size 1000x500 with 1 Axes>"
      ]
     },
     "metadata": {},
     "output_type": "display_data"
    }
   ],
   "source": [
    "taxi_grouped_by_region['trip_distance'].hist(bins=100, figsize=(10,5))\n",
    "plt.show()"
   ]
  },
  {
   "cell_type": "code",
   "execution_count": 89,
   "id": "dac63c3b",
   "metadata": {},
   "outputs": [
    {
     "data": {
      "image/png": "[encoded data removed]",
      "text/plain": [
       "<Figure size 1000x500 with 1 Axes>"
      ]
     },
     "metadata": {},
     "output_type": "display_data"
    }
   ],
   "source": [
    "taxi_grouped_by_region['total_amount'].hist(bins=100, figsize=(10,5))\n",
    "plt.show()"
   ]
  },
  {
   "cell_type": "markdown",
   "id": "0ca60854",
   "metadata": {},
   "source": [
    "\n",
    "# 5. Benchmark Model  \n",
    "<a id=\"benchmark_model\"></a>\n",
    "<br>\n",
    "[Back to the Top](#table-of-contents)"
   ]
  },
  {
   "cell_type": "markdown",
   "id": "2afbc633",
   "metadata": {},
   "source": [
    "A benchmark that you try you use to pass your model (baseline) "
   ]
  },
  {
   "cell_type": "code",
   "execution_count": 90,
   "id": "a97589be",
   "metadata": {},
   "outputs": [],
   "source": [
    "data_for_benchmark_model = taxi_grouped_by_region.copy()"
   ]
  },
  {
   "cell_type": "code",
   "execution_count": 93,
   "id": "c8066d08",
   "metadata": {},
   "outputs": [],
   "source": [
    "categorical_features_benchmark = ['PULocationID', 'transaction_month', 'transaction_day', \\\n",
    "                                 'transaction_hour']\n",
    "input_features_benchmark = categorical_features_benchmark + ['trip_distance']\n",
    "target_feature_benchmark = 'total_amount'"
   ]
  },
  {
   "cell_type": "markdown",
   "id": "6452c85f",
   "metadata": {},
   "source": [
    "\n",
    "# 5.1. Train-test split \n",
    "<a id=\"train_test_split\"></a>\n",
    "<br>\n",
    "[Back to the Top](#table-of-contents)"
   ]
  },
  {
   "cell_type": "code",
   "execution_count": 94,
   "id": "3561a579",
   "metadata": {},
   "outputs": [],
   "source": [
    "from sklearn.model_selection import train_test_split \n",
    "\n",
    "X_bench = data_for_benchmark_model[input_features_benchmark]\n",
    "y_bench = data_for_benchmark_model[target_feature_benchmark]\n",
    "\n",
    "#one-hot encode \n",
    "X_bench = pd.get_dummies(X_bench)\n",
    "\n",
    "X_train_b, X_test_b, y_train_b, y_test_b = train_test_split(X_bench, y_bench, test_size=0.33,\\\n",
    "                                                       random_state=42)"
   ]
  },
  {
   "cell_type": "markdown",
   "id": "d3e9bb90",
   "metadata": {},
   "source": [
    "One-hot encoding - converts all the categorical values to numerical values which the <br> \n",
    "code can work with"
   ]
  },
  {
   "cell_type": "markdown",
   "id": "8e7eebf8",
   "metadata": {},
   "source": [
    "\n",
    "# 5.2. Fit a model to the data\n",
    "<a id=\"fit_model\"></a>\n",
    "<br>\n",
    "[Back to the Top](#table-of-contents)"
   ]
  },
  {
   "cell_type": "code",
   "execution_count": 95,
   "id": "567c95a5",
   "metadata": {},
   "outputs": [
    {
     "data": {
      "text/html": [
       "<style>#sk-container-id-1 {color: black;background-color: white;}#sk-container-id-1 pre{padding: 0;}#sk-container-id-1 div.sk-toggleable {background-color: white;}#sk-container-id-1 label.sk-toggleable__label {cursor: pointer;display: block;width: 100%;margin-bottom: 0;padding: 0.3em;box-sizing: border-box;text-align: center;}#sk-container-id-1 label.sk-toggleable__label-arrow:before {content: \"▸\";float: left;margin-right: 0.25em;color: #696969;}#sk-container-id-1 label.sk-toggleable__label-arrow:hover:before {color: black;}#sk-container-id-1 div.sk-estimator:hover label.sk-toggleable__label-arrow:before {color: black;}#sk-container-id-1 div.sk-toggleable__content {max-height: 0;max-width: 0;overflow: hidden;text-align: left;background-color: #f0f8ff;}#sk-container-id-1 div.sk-toggleable__content pre {margin: 0.2em;color: black;border-radius: 0.25em;background-color: #f0f8ff;}#sk-container-id-1 input.sk-toggleable__control:checked~div.sk-toggleable__content {max-height: 200px;max-width: 100%;overflow: auto;}#sk-container-id-1 input.sk-toggleable__control:checked~label.sk-toggleable__label-arrow:before {content: \"▾\";}#sk-container-id-1 div.sk-estimator input.sk-toggleable__control:checked~label.sk-toggleable__label {background-color: #d4ebff;}#sk-container-id-1 div.sk-label input.sk-toggleable__control:checked~label.sk-toggleable__label {background-color: #d4ebff;}#sk-container-id-1 input.sk-hidden--visually {border: 0;clip: rect(1px 1px 1px 1px);clip: rect(1px, 1px, 1px, 1px);height: 1px;margin: -1px;overflow: hidden;padding: 0;position: absolute;width: 1px;}#sk-container-id-1 div.sk-estimator {font-family: monospace;background-color: #f0f8ff;border: 1px dotted black;border-radius: 0.25em;box-sizing: border-box;margin-bottom: 0.5em;}#sk-container-id-1 div.sk-estimator:hover {background-color: #d4ebff;}#sk-container-id-1 div.sk-parallel-item::after {content: \"\";width: 100%;border-bottom: 1px solid gray;flex-grow: 1;}#sk-container-id-1 div.sk-label:hover label.sk-toggleable__label {background-color: #d4ebff;}#sk-container-id-1 div.sk-serial::before {content: \"\";position: absolute;border-left: 1px solid gray;box-sizing: border-box;top: 0;bottom: 0;left: 50%;z-index: 0;}#sk-container-id-1 div.sk-serial {display: flex;flex-direction: column;align-items: center;background-color: white;padding-right: 0.2em;padding-left: 0.2em;position: relative;}#sk-container-id-1 div.sk-item {position: relative;z-index: 1;}#sk-container-id-1 div.sk-parallel {display: flex;align-items: stretch;justify-content: center;background-color: white;position: relative;}#sk-container-id-1 div.sk-item::before, #sk-container-id-1 div.sk-parallel-item::before {content: \"\";position: absolute;border-left: 1px solid gray;box-sizing: border-box;top: 0;bottom: 0;left: 50%;z-index: -1;}#sk-container-id-1 div.sk-parallel-item {display: flex;flex-direction: column;z-index: 1;position: relative;background-color: white;}#sk-container-id-1 div.sk-parallel-item:first-child::after {align-self: flex-end;width: 50%;}#sk-container-id-1 div.sk-parallel-item:last-child::after {align-self: flex-start;width: 50%;}#sk-container-id-1 div.sk-parallel-item:only-child::after {width: 0;}#sk-container-id-1 div.sk-dashed-wrapped {border: 1px dashed gray;margin: 0 0.4em 0.5em 0.4em;box-sizing: border-box;padding-bottom: 0.4em;background-color: white;}#sk-container-id-1 div.sk-label label {font-family: monospace;font-weight: bold;display: inline-block;line-height: 1.2em;}#sk-container-id-1 div.sk-label-container {text-align: center;}#sk-container-id-1 div.sk-container {/* jupyter's `normalize.less` sets `[hidden] { display: none; }` but bootstrap.min.css set `[hidden] { display: none !important; }` so we also need the `!important` here to be able to override the default hidden behavior on the sphinx rendered scikit-learn.org. See: https://github.com/scikit-learn/scikit-learn/issues/21755 */display: inline-block !important;position: relative;}#sk-container-id-1 div.sk-text-repr-fallback {display: none;}</style><div id=\"sk-container-id-1\" class=\"sk-top-container\"><div class=\"sk-text-repr-fallback\"><pre>DecisionTreeRegressor(max_depth=10)</pre><b>In a Jupyter environment, please rerun this cell to show the HTML representation or trust the notebook. <br />On GitHub, the HTML representation is unable to render, please try loading this page with nbviewer.org.</b></div><div class=\"sk-container\" hidden><div class=\"sk-item\"><div class=\"sk-estimator sk-toggleable\"><input class=\"sk-toggleable__control sk-hidden--visually\" id=\"sk-estimator-id-1\" type=\"checkbox\" checked><label for=\"sk-estimator-id-1\" class=\"sk-toggleable__label sk-toggleable__label-arrow\">DecisionTreeRegressor</label><div class=\"sk-toggleable__content\"><pre>DecisionTreeRegressor(max_depth=10)</pre></div></div></div></div></div>"
      ],
      "text/plain": [
       "DecisionTreeRegressor(max_depth=10)"
      ]
     },
     "execution_count": 95,
     "metadata": {},
     "output_type": "execute_result"
    }
   ],
   "source": [
    "from sklearn.tree import DecisionTreeRegressor \n",
    "\n",
    "tree = DecisionTreeRegressor(max_depth=10)\n",
    "tree.fit(X_train_b, y_train_b)"
   ]
  },
  {
   "cell_type": "code",
   "execution_count": null,
   "id": "65d26b77",
   "metadata": {},
   "outputs": [],
   "source": []
  },
  {
   "cell_type": "code",
   "execution_count": null,
   "id": "d9eef830",
   "metadata": {},
   "outputs": [],
   "source": []
  }
 ],
 "metadata": {
  "kernelspec": {
   "display_name": "Python 3 (ipykernel)",
   "language": "python",
   "name": "python3"
  },
  "language_info": {
   "codemirror_mode": {
    "name": "ipython",
    "version": 3
   },
   "file_extension": ".py",
   "mimetype": "text/x-python",
   "name": "python",
   "nbconvert_exporter": "python",
   "pygments_lexer": "ipython3",
   "version": "3.11.3"
  }
 },
 "nbformat": 4,
 "nbformat_minor": 5
}
